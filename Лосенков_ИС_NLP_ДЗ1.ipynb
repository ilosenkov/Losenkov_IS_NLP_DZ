{
 "cells": [
  {
   "cell_type": "code",
   "execution_count": 1,
   "id": "8cc2f1b2-9986-44cd-9bac-bc845d2e40e5",
   "metadata": {},
   "outputs": [],
   "source": [
    "import json\n",
    "import bz2\n",
    "import pandas as pd\n",
    "import numpy as np\n",
    "from tqdm.notebook import tqdm"
   ]
  },
  {
   "cell_type": "markdown",
   "id": "b933bad3-815d-4d6e-b909-c036dbe2398d",
   "metadata": {},
   "source": [
    "**Часть 1. Анализ текстов**"
   ]
  },
  {
   "cell_type": "code",
   "execution_count": 2,
   "id": "0e8abe45-fe80-46cb-b4be-aad4a6ee30f7",
   "metadata": {},
   "outputs": [
    {
     "data": {
      "application/vnd.jupyter.widget-view+json": {
       "model_id": "6aa5fc1d256441bfac8707bcf917e279",
       "version_major": 2,
       "version_minor": 0
      },
      "text/plain": [
       "0it [00:00, ?it/s]"
      ]
     },
     "metadata": {},
     "output_type": "display_data"
    }
   ],
   "source": [
    "# Излечение данных из архива\n",
    "responses = []\n",
    "with bz2.BZ2File(r\"D:\\НЕТОЛОГИЯ\\NLP\\файлы\\banki_responses.json.bz2\", 'r') as thefile:\n",
    "    for row in tqdm(thefile):\n",
    "        resp = json.loads(row)\n",
    "        if not resp['rating_not_checked'] and (len(resp['text'].split()) > 0):\n",
    "            responses.append(resp)"
   ]
  },
  {
   "cell_type": "code",
   "execution_count": 3,
   "id": "b3f04566-23a6-4fb4-b554-c834378e0999",
   "metadata": {},
   "outputs": [
    {
     "data": {
      "text/plain": [
       "(153499, 10)"
      ]
     },
     "metadata": {},
     "output_type": "display_data"
    },
    {
     "data": {
      "text/html": [
       "<div>\n",
       "<style scoped>\n",
       "    .dataframe tbody tr th:only-of-type {\n",
       "        vertical-align: middle;\n",
       "    }\n",
       "\n",
       "    .dataframe tbody tr th {\n",
       "        vertical-align: top;\n",
       "    }\n",
       "\n",
       "    .dataframe thead th {\n",
       "        text-align: right;\n",
       "    }\n",
       "</style>\n",
       "<table border=\"1\" class=\"dataframe\">\n",
       "  <thead>\n",
       "    <tr style=\"text-align: right;\">\n",
       "      <th></th>\n",
       "      <th>city</th>\n",
       "      <th>rating_not_checked</th>\n",
       "      <th>title</th>\n",
       "      <th>num_comments</th>\n",
       "      <th>bank_license</th>\n",
       "      <th>author</th>\n",
       "      <th>bank_name</th>\n",
       "      <th>datetime</th>\n",
       "      <th>text</th>\n",
       "      <th>rating_grade</th>\n",
       "    </tr>\n",
       "  </thead>\n",
       "  <tbody>\n",
       "    <tr>\n",
       "      <th>0</th>\n",
       "      <td>г. Москва</td>\n",
       "      <td>False</td>\n",
       "      <td>Жалоба</td>\n",
       "      <td>0</td>\n",
       "      <td>лицензия № 2562</td>\n",
       "      <td>uhnov1</td>\n",
       "      <td>Бинбанк</td>\n",
       "      <td>2015-06-08 12:50:54</td>\n",
       "      <td>Добрый день! Я не являюсь клиентом банка и пор...</td>\n",
       "      <td>NaN</td>\n",
       "    </tr>\n",
       "    <tr>\n",
       "      <th>1</th>\n",
       "      <td>г. Новосибирск</td>\n",
       "      <td>False</td>\n",
       "      <td>Не могу пользоваться услугой Сбербанк он-лайн</td>\n",
       "      <td>0</td>\n",
       "      <td>лицензия № 1481</td>\n",
       "      <td>Foryou</td>\n",
       "      <td>Сбербанк России</td>\n",
       "      <td>2015-06-08 11:09:57</td>\n",
       "      <td>Доброго дня! Являюсь держателем зарплатной кар...</td>\n",
       "      <td>NaN</td>\n",
       "    </tr>\n",
       "    <tr>\n",
       "      <th>2</th>\n",
       "      <td>г. Москва</td>\n",
       "      <td>False</td>\n",
       "      <td>Двойное списание за один товар.</td>\n",
       "      <td>1</td>\n",
       "      <td>лицензия № 2562</td>\n",
       "      <td>Vladimir84</td>\n",
       "      <td>Бинбанк</td>\n",
       "      <td>2015-06-05 20:14:28</td>\n",
       "      <td>Здравствуйте!  Дублирую свое заявление от 03.0...</td>\n",
       "      <td>NaN</td>\n",
       "    </tr>\n",
       "    <tr>\n",
       "      <th>3</th>\n",
       "      <td>г. Ставрополь</td>\n",
       "      <td>False</td>\n",
       "      <td>Меняют проценты комиссии  не предупредив и не ...</td>\n",
       "      <td>2</td>\n",
       "      <td>лицензия № 1481</td>\n",
       "      <td>643609</td>\n",
       "      <td>Сбербанк России</td>\n",
       "      <td>2015-06-05 13:51:01</td>\n",
       "      <td>Добрый день!! Я открыл расчетный счет в СберБа...</td>\n",
       "      <td>NaN</td>\n",
       "    </tr>\n",
       "    <tr>\n",
       "      <th>4</th>\n",
       "      <td>г. Челябинск</td>\n",
       "      <td>False</td>\n",
       "      <td>Верните денежные средства за страховку</td>\n",
       "      <td>1</td>\n",
       "      <td>лицензия № 2766</td>\n",
       "      <td>anfisa-2003</td>\n",
       "      <td>ОТП Банк</td>\n",
       "      <td>2015-06-05 10:58:12</td>\n",
       "      <td>04.03.2015 г. взяла кредит в вашем банке, заяв...</td>\n",
       "      <td>NaN</td>\n",
       "    </tr>\n",
       "  </tbody>\n",
       "</table>\n",
       "</div>"
      ],
      "text/plain": [
       "             city  rating_not_checked  \\\n",
       "0       г. Москва               False   \n",
       "1  г. Новосибирск               False   \n",
       "2       г. Москва               False   \n",
       "3   г. Ставрополь               False   \n",
       "4    г. Челябинск               False   \n",
       "\n",
       "                                               title  num_comments  \\\n",
       "0                                             Жалоба             0   \n",
       "1      Не могу пользоваться услугой Сбербанк он-лайн             0   \n",
       "2                    Двойное списание за один товар.             1   \n",
       "3  Меняют проценты комиссии  не предупредив и не ...             2   \n",
       "4             Верните денежные средства за страховку             1   \n",
       "\n",
       "      bank_license       author        bank_name             datetime  \\\n",
       "0  лицензия № 2562       uhnov1          Бинбанк  2015-06-08 12:50:54   \n",
       "1  лицензия № 1481       Foryou  Сбербанк России  2015-06-08 11:09:57   \n",
       "2  лицензия № 2562   Vladimir84          Бинбанк  2015-06-05 20:14:28   \n",
       "3  лицензия № 1481       643609  Сбербанк России  2015-06-05 13:51:01   \n",
       "4  лицензия № 2766  anfisa-2003         ОТП Банк  2015-06-05 10:58:12   \n",
       "\n",
       "                                                text  rating_grade  \n",
       "0  Добрый день! Я не являюсь клиентом банка и пор...           NaN  \n",
       "1  Доброго дня! Являюсь держателем зарплатной кар...           NaN  \n",
       "2  Здравствуйте!  Дублирую свое заявление от 03.0...           NaN  \n",
       "3  Добрый день!! Я открыл расчетный счет в СберБа...           NaN  \n",
       "4  04.03.2015 г. взяла кредит в вашем банке, заяв...           NaN  "
      ]
     },
     "execution_count": 3,
     "metadata": {},
     "output_type": "execute_result"
    }
   ],
   "source": [
    "# Создание датафрейма\n",
    "df = pd.DataFrame(responses)\n",
    "display(df.shape)\n",
    "df.head()"
   ]
  },
  {
   "cell_type": "markdown",
   "id": "8deeb59d-e23c-40ef-94a4-ea73ae076797",
   "metadata": {},
   "source": [
    "*1. Посчитайте количество отзывов в разных городах и на разные банки*"
   ]
  },
  {
   "cell_type": "code",
   "execution_count": 6,
   "id": "9544d48a-3e04-4dd2-8919-7a6bdfa56657",
   "metadata": {},
   "outputs": [
    {
     "data": {
      "text/html": [
       "<div>\n",
       "<style scoped>\n",
       "    .dataframe tbody tr th:only-of-type {\n",
       "        vertical-align: middle;\n",
       "    }\n",
       "\n",
       "    .dataframe tbody tr th {\n",
       "        vertical-align: top;\n",
       "    }\n",
       "\n",
       "    .dataframe thead th {\n",
       "        text-align: right;\n",
       "    }\n",
       "</style>\n",
       "<table border=\"1\" class=\"dataframe\">\n",
       "  <thead>\n",
       "    <tr style=\"text-align: right;\">\n",
       "      <th></th>\n",
       "      <th>bank_name</th>\n",
       "      <th>rating_not_checked</th>\n",
       "    </tr>\n",
       "  </thead>\n",
       "  <tbody>\n",
       "    <tr>\n",
       "      <th>0</th>\n",
       "      <td>Сбербанк России</td>\n",
       "      <td>26327</td>\n",
       "    </tr>\n",
       "    <tr>\n",
       "      <th>1</th>\n",
       "      <td>Альфа-Банк</td>\n",
       "      <td>10224</td>\n",
       "    </tr>\n",
       "    <tr>\n",
       "      <th>2</th>\n",
       "      <td>ВТБ 24</td>\n",
       "      <td>8185</td>\n",
       "    </tr>\n",
       "    <tr>\n",
       "      <th>3</th>\n",
       "      <td>Русский Стандарт</td>\n",
       "      <td>7943</td>\n",
       "    </tr>\n",
       "    <tr>\n",
       "      <th>4</th>\n",
       "      <td>Хоум Кредит Банк</td>\n",
       "      <td>7549</td>\n",
       "    </tr>\n",
       "    <tr>\n",
       "      <th>...</th>\n",
       "      <td>...</td>\n",
       "      <td>...</td>\n",
       "    </tr>\n",
       "    <tr>\n",
       "      <th>665</th>\n",
       "      <td>Северный Народный Банк</td>\n",
       "      <td>1</td>\n",
       "    </tr>\n",
       "    <tr>\n",
       "      <th>666</th>\n",
       "      <td>Сельмашбанк</td>\n",
       "      <td>1</td>\n",
       "    </tr>\n",
       "    <tr>\n",
       "      <th>667</th>\n",
       "      <td>Сиббизнесбанк</td>\n",
       "      <td>1</td>\n",
       "    </tr>\n",
       "    <tr>\n",
       "      <th>668</th>\n",
       "      <td>Сибконтакт</td>\n",
       "      <td>1</td>\n",
       "    </tr>\n",
       "    <tr>\n",
       "      <th>669</th>\n",
       "      <td>Мигом</td>\n",
       "      <td>1</td>\n",
       "    </tr>\n",
       "  </tbody>\n",
       "</table>\n",
       "<p>670 rows × 2 columns</p>\n",
       "</div>"
      ],
      "text/plain": [
       "                  bank_name  rating_not_checked\n",
       "0           Сбербанк России               26327\n",
       "1                Альфа-Банк               10224\n",
       "2                    ВТБ 24                8185\n",
       "3          Русский Стандарт                7943\n",
       "4          Хоум Кредит Банк                7549\n",
       "..                      ...                 ...\n",
       "665  Северный Народный Банк                   1\n",
       "666             Сельмашбанк                   1\n",
       "667           Сиббизнесбанк                   1\n",
       "668              Сибконтакт                   1\n",
       "669                   Мигом                   1\n",
       "\n",
       "[670 rows x 2 columns]"
      ]
     },
     "execution_count": 6,
     "metadata": {},
     "output_type": "execute_result"
    }
   ],
   "source": [
    "# Распределение отзывов по названию банка\n",
    "df.groupby(['bank_name']).count()['rating_not_checked'].sort_values(ascending = False).reset_index()"
   ]
  },
  {
   "cell_type": "code",
   "execution_count": 7,
   "id": "244f46b0-910f-401d-9d7d-f49ea446ebec",
   "metadata": {},
   "outputs": [
    {
     "data": {
      "text/html": [
       "<div>\n",
       "<style scoped>\n",
       "    .dataframe tbody tr th:only-of-type {\n",
       "        vertical-align: middle;\n",
       "    }\n",
       "\n",
       "    .dataframe tbody tr th {\n",
       "        vertical-align: top;\n",
       "    }\n",
       "\n",
       "    .dataframe thead th {\n",
       "        text-align: right;\n",
       "    }\n",
       "</style>\n",
       "<table border=\"1\" class=\"dataframe\">\n",
       "  <thead>\n",
       "    <tr style=\"text-align: right;\">\n",
       "      <th></th>\n",
       "      <th>city</th>\n",
       "      <th>rating_not_checked</th>\n",
       "    </tr>\n",
       "  </thead>\n",
       "  <tbody>\n",
       "    <tr>\n",
       "      <th>0</th>\n",
       "      <td>г. Москва</td>\n",
       "      <td>55354</td>\n",
       "    </tr>\n",
       "    <tr>\n",
       "      <th>1</th>\n",
       "      <td>г. Санкт-Петербург</td>\n",
       "      <td>14342</td>\n",
       "    </tr>\n",
       "    <tr>\n",
       "      <th>2</th>\n",
       "      <td>г. Екатеринбург</td>\n",
       "      <td>2337</td>\n",
       "    </tr>\n",
       "    <tr>\n",
       "      <th>3</th>\n",
       "      <td>г. Новосибирск</td>\n",
       "      <td>2300</td>\n",
       "    </tr>\n",
       "    <tr>\n",
       "      <th>4</th>\n",
       "      <td>г. Нижний Новгород</td>\n",
       "      <td>1976</td>\n",
       "    </tr>\n",
       "    <tr>\n",
       "      <th>...</th>\n",
       "      <td>...</td>\n",
       "      <td>...</td>\n",
       "    </tr>\n",
       "    <tr>\n",
       "      <th>5818</th>\n",
       "      <td>г. Москва, Ногинск (Москва)</td>\n",
       "      <td>1</td>\n",
       "    </tr>\n",
       "    <tr>\n",
       "      <th>5819</th>\n",
       "      <td>г. Москва, Новосибирск</td>\n",
       "      <td>1</td>\n",
       "    </tr>\n",
       "    <tr>\n",
       "      <th>5820</th>\n",
       "      <td>г. Москва, Николоямская ул., 31</td>\n",
       "      <td>1</td>\n",
       "    </tr>\n",
       "    <tr>\n",
       "      <th>5821</th>\n",
       "      <td>г. Москва, Московская область</td>\n",
       "      <td>1</td>\n",
       "    </tr>\n",
       "    <tr>\n",
       "      <th>5822</th>\n",
       "      <td>г. … или другой населенный пункт</td>\n",
       "      <td>1</td>\n",
       "    </tr>\n",
       "  </tbody>\n",
       "</table>\n",
       "<p>5823 rows × 2 columns</p>\n",
       "</div>"
      ],
      "text/plain": [
       "                                  city  rating_not_checked\n",
       "0                            г. Москва               55354\n",
       "1                   г. Санкт-Петербург               14342\n",
       "2                      г. Екатеринбург                2337\n",
       "3                       г. Новосибирск                2300\n",
       "4                   г. Нижний Новгород                1976\n",
       "...                                ...                 ...\n",
       "5818       г. Москва, Ногинск (Москва)                   1\n",
       "5819            г. Москва, Новосибирск                   1\n",
       "5820   г. Москва, Николоямская ул., 31                   1\n",
       "5821     г. Москва, Московская область                   1\n",
       "5822  г. … или другой населенный пункт                   1\n",
       "\n",
       "[5823 rows x 2 columns]"
      ]
     },
     "execution_count": 7,
     "metadata": {},
     "output_type": "execute_result"
    }
   ],
   "source": [
    "# Распределение отзывов по городам\n",
    "df.groupby(['city']).count()['rating_not_checked'].sort_values(ascending = False).reset_index()"
   ]
  },
  {
   "cell_type": "code",
   "execution_count": 8,
   "id": "b759e6fc-e1ae-4f4a-86dd-94b294c75395",
   "metadata": {},
   "outputs": [
    {
     "data": {
      "text/plain": [
       "city                                 bank_name                \n",
       "г. Москва                            Сбербанк России              8146\n",
       "                                     Альфа-Банк                   3871\n",
       "                                     Русский Стандарт             2801\n",
       "                                     ВТБ 24                       2714\n",
       "г. Санкт-Петербург                   Сбербанк России              2434\n",
       "                                                                  ... \n",
       "г. Москва,  Отделение \"Жулебинское\"  Московский Кредитный Банк       1\n",
       "г. Москва, \"Китай-город\"             Фора-Банк                       1\n",
       "г. Москва, Ветошный пер              Восточный Экспресс Банк         1\n",
       "г. Москва, Видное                    Сбербанк России                 1\n",
       "г. … или другой населенный пункт     Лето Банк                       1\n",
       "Name: rating_not_checked, Length: 18769, dtype: int64"
      ]
     },
     "execution_count": 8,
     "metadata": {},
     "output_type": "execute_result"
    }
   ],
   "source": [
    "# Распределение отзывов на банк внутри городов\n",
    "df.groupby(['city', 'bank_name']).count()['rating_not_checked'].sort_values(ascending = False)"
   ]
  },
  {
   "cell_type": "markdown",
   "id": "c284026a-d435-44a1-9ba0-3b9e4f26fb5d",
   "metadata": {},
   "source": [
    "*2. Постройте гистограмы длин текстов в символах и в словах*"
   ]
  },
  {
   "cell_type": "code",
   "execution_count": 10,
   "id": "48084800-21a5-47d1-bc27-ea7d6ee2001e",
   "metadata": {},
   "outputs": [],
   "source": [
    "# Расчет длины текста в символах\n",
    "df['len_in_syms'] = df['text'].apply(lambda x: len(x))\n",
    "\n",
    "# Расчет длины текста в словах\n",
    "df['len_in_words'] = df['text'].apply(lambda x: len(x.split(' ')))"
   ]
  },
  {
   "cell_type": "code",
   "execution_count": 11,
   "id": "b1f7ba13-94df-4061-b8fe-3d48a7bb7d75",
   "metadata": {},
   "outputs": [
    {
     "data": {
      "image/png": "[encoded data removed]",
      "text/plain": [
       "<Figure size 1000x400 with 1 Axes>"
      ]
     },
     "metadata": {},
     "output_type": "display_data"
    },
    {
     "data": {
      "image/png": "[encoded data removed]",
      "text/plain": [
       "<Figure size 1000x400 with 1 Axes>"
      ]
     },
     "metadata": {},
     "output_type": "display_data"
    }
   ],
   "source": [
    "#Гистограммы\n",
    "import matplotlib.pyplot as plt\n",
    "import seaborn as sns\n",
    "\n",
    "plt.figure(figsize = (10, 4))\n",
    "plt.title('Распредление текстов по чилу символов')\n",
    "sns.histplot(df['len_in_syms'])\n",
    "plt.show()\n",
    "\n",
    "plt.figure(figsize = (10, 4))\n",
    "plt.title('Распредление текстов по чилу слов')\n",
    "sns.histplot(df['len_in_words'], color = 'g')\n",
    "plt.show()"
   ]
  },
  {
   "cell_type": "markdown",
   "id": "1c114d22-60bb-4e67-9db6-9b1606d23f36",
   "metadata": {},
   "source": [
    "*3.1. Найдите 10 самых частых слов*"
   ]
  },
  {
   "cell_type": "code",
   "execution_count": 4,
   "id": "8c8b15be-7ba2-4c71-878a-fe51509125e6",
   "metadata": {},
   "outputs": [],
   "source": [
    "# Предобработка текстов. Приведение к нижнему регистру. Оставлем только содержащие кириллицу слова\n",
    "import re\n",
    "\n",
    "ru_words = re.compile('[А-Яа-я]+')\n",
    "df['text'] = df['text'].apply(lambda x: ' '.join(ru_words.findall(x.lower())))"
   ]
  },
  {
   "cell_type": "code",
   "execution_count": 7,
   "id": "3fb15814-3691-4e6a-8bfc-bbf5ba79038f",
   "metadata": {},
   "outputs": [
    {
     "data": {
      "application/vnd.jupyter.widget-view+json": {
       "model_id": "650c2c1041274c7082058b164e0675ef",
       "version_major": 2,
       "version_minor": 0
      },
      "text/plain": [
       "  0%|          | 0/153499 [00:00<?, ?it/s]"
      ]
     },
     "metadata": {},
     "output_type": "display_data"
    }
   ],
   "source": [
    "# Создание \"мешка слов\". Токенизация. Удаление знаков пунктуации\n",
    "from nltk.tokenize import word_tokenize\n",
    "from string import punctuation\n",
    "\n",
    "bow = [token for tweet in tqdm(df['text']) for token in word_tokenize(tweet) if token not in punctuation]"
   ]
  },
  {
   "cell_type": "code",
   "execution_count": 20,
   "id": "b5bf24ba-0aa6-4350-b574-b87029f1978a",
   "metadata": {},
   "outputs": [
    {
     "data": {
      "text/plain": [
       "[('в', 1330550),\n",
       " ('и', 1058997),\n",
       " ('не', 855335),\n",
       " ('на', 707935),\n",
       " ('что', 640057),\n",
       " ('я', 577500),\n",
       " ('с', 464037),\n",
       " ('по', 372769),\n",
       " ('мне', 320958),\n",
       " ('банка', 275906)]"
      ]
     },
     "execution_count": 20,
     "metadata": {},
     "output_type": "execute_result"
    }
   ],
   "source": [
    "# 10 самых частых слов\n",
    "from collections import Counter\n",
    "\n",
    "freq_dict = Counter(bow)\n",
    "freq_dict.most_common(10)"
   ]
  },
  {
   "cell_type": "markdown",
   "id": "90d07b10-2ea0-4548-bea7-59db5958d921",
   "metadata": {},
   "source": [
    "*3.2. Найдите 10 самых частых слов без стоп-слов*"
   ]
  },
  {
   "cell_type": "code",
   "execution_count": 21,
   "id": "06e41671-b1cf-4f71-93e6-31c12782cfdf",
   "metadata": {},
   "outputs": [],
   "source": [
    "# Удаление стоп-слов\n",
    "import nltk\n",
    "from nltk.corpus import stopwords\n",
    "\n",
    "stop_words = stopwords.words('russian')\n",
    "stopwords_dict = Counter(stop_words)\n",
    "bow_nostop = [token for token in bow if token not in stopwords_dict]"
   ]
  },
  {
   "cell_type": "code",
   "execution_count": 18,
   "id": "31610008-579d-4671-811d-3621294dff4e",
   "metadata": {},
   "outputs": [
    {
     "data": {
      "text/plain": [
       "[('банка', 275906),\n",
       " ('банк', 215426),\n",
       " ('это', 183365),\n",
       " ('деньги', 131201),\n",
       " ('карту', 105829),\n",
       " ('карты', 101821),\n",
       " ('т', 91756),\n",
       " ('кредит', 81136),\n",
       " ('день', 76552),\n",
       " ('банке', 72169)]"
      ]
     },
     "execution_count": 18,
     "metadata": {},
     "output_type": "execute_result"
    }
   ],
   "source": [
    "# 10 самых частых слов (без стоп-слов)\n",
    "freq_dict_nostop = Counter(bow_nostop)\n",
    "freq_dict_nostop.most_common(10)"
   ]
  },
  {
   "cell_type": "markdown",
   "id": "3c87c944-02c5-46f2-9551-e07d1509f314",
   "metadata": {},
   "source": [
    "*3.3. Найдите 10 самых частых лемм*"
   ]
  },
  {
   "cell_type": "code",
   "execution_count": 24,
   "id": "43deed64-a95b-4e0b-adca-fa39a04d3d91",
   "metadata": {},
   "outputs": [
    {
     "data": {
      "application/vnd.jupyter.widget-view+json": {
       "model_id": "8e0f95e18e0246a3a13efa0941647e06",
       "version_major": 2,
       "version_minor": 0
      },
      "text/plain": [
       "  0%|          | 0/153499 [00:00<?, ?it/s]"
      ]
     },
     "metadata": {},
     "output_type": "display_data"
    }
   ],
   "source": [
    "# Лемматизация через pymorphy3\n",
    "from tqdm.auto import tqdm\n",
    "from pymorphy3 import MorphAnalyzer\n",
    "pymorphy3_analyzer = MorphAnalyzer()\n",
    "\n",
    "tqdm.pandas()\n",
    "\n",
    "df['text'] =df['text'].progress_apply(lambda x: ' '.join([pymorphy3_analyzer.parse(word)[0].normal_form for word in word_tokenize(x) if word not in stopwords_dict]))"
   ]
  },
  {
   "cell_type": "code",
   "execution_count": 23,
   "id": "20843efc-72cc-4d6d-aaed-50102aaf2312",
   "metadata": {},
   "outputs": [
    {
     "data": {
      "application/vnd.jupyter.widget-view+json": {
       "model_id": "e271da981c814db1a4590116b33833d6",
       "version_major": 2,
       "version_minor": 0
      },
      "text/plain": [
       "  0%|          | 0/153499 [00:00<?, ?it/s]"
      ]
     },
     "metadata": {},
     "output_type": "display_data"
    },
    {
     "data": {
      "text/plain": [
       "[('банк', 668563),\n",
       " ('карта', 334999),\n",
       " ('это', 200057),\n",
       " ('деньга', 179819),\n",
       " ('день', 173116),\n",
       " ('мой', 163042),\n",
       " ('кредит', 156177),\n",
       " ('который', 149017),\n",
       " ('отделение', 144050),\n",
       " ('клиент', 136892)]"
      ]
     },
     "execution_count": 23,
     "metadata": {},
     "output_type": "execute_result"
    }
   ],
   "source": [
    "#10 самых частых лемм\n",
    "bow_lemm = [lemms for text in tqdm(df['text']) for lemms in text.split(' ')]\n",
    "freq_dict_lemm = Counter(bow_lemm)\n",
    "freq_dict_lemm.most_common(10)"
   ]
  },
  {
   "cell_type": "markdown",
   "id": "000b5b9b-9660-43de-955a-5ee45f9b7278",
   "metadata": {},
   "source": [
    "*3.4. Найдите 10 самых частых существительных*"
   ]
  },
  {
   "cell_type": "code",
   "execution_count": 24,
   "id": "a20b79bd-7cfd-42b2-8d29-e582877e78f8",
   "metadata": {},
   "outputs": [
    {
     "data": {
      "application/vnd.jupyter.widget-view+json": {
       "model_id": "661b62ee1a0a4bfaafa301d4806ff900",
       "version_major": 2,
       "version_minor": 0
      },
      "text/plain": [
       "  0%|          | 0/93472 [00:00<?, ?it/s]"
      ]
     },
     "metadata": {},
     "output_type": "display_data"
    },
    {
     "data": {
      "text/plain": [
       "[('банк', 668563),\n",
       " ('карта', 334999),\n",
       " ('деньга', 179819),\n",
       " ('день', 173116),\n",
       " ('кредит', 156177),\n",
       " ('отделение', 144050),\n",
       " ('клиент', 136892),\n",
       " ('сотрудник', 134168),\n",
       " ('счёт', 126894),\n",
       " ('сумма', 111232)]"
      ]
     },
     "execution_count": 24,
     "metadata": {},
     "output_type": "execute_result"
    }
   ],
   "source": [
    "# Новый словарь только для существительных\n",
    "nouns = {}\n",
    "for key, value in tqdm(freq_dict_lemm.items()):\n",
    "    if pymorphy3_analyzer.tag(key)[0].POS == 'NOUN': \n",
    "        nouns[key] = value\n",
    "\n",
    "# Сортировка словаря по убыванию\n",
    "nouns = {k: v for k, v in sorted(nouns.items(), key=lambda item: item[1], reverse=True)}\n",
    "\n",
    "# 10 самых частых существительных\n",
    "list(nouns.items())[0:10]"
   ]
  },
  {
   "cell_type": "markdown",
   "id": "7f32c2c7-f387-467d-8b57-8963e51f8e88",
   "metadata": {},
   "source": [
    "*4. Постройте кривые Ципфа и Хипса*"
   ]
  },
  {
   "cell_type": "code",
   "execution_count": 25,
   "id": "385134e6-7c24-4763-997e-e37f27506555",
   "metadata": {},
   "outputs": [
    {
     "data": {
      "image/png": "[encoded data removed]",
      "text/plain": [
       "<Figure size 640x480 with 1 Axes>"
      ]
     },
     "metadata": {},
     "output_type": "display_data"
    }
   ],
   "source": [
    "#Кривая Ципфа\n",
    "freqs = list(freq_dict_lemm.values())\n",
    "freqs = sorted(freqs, reverse = True)\n",
    "\n",
    "fig, ax = plt.subplots()\n",
    "ax.plot(freqs[:500], range(500))\n",
    "plt.xlabel('Позиция в словаре')\n",
    "plt.ylabel('Встречаемость')\n",
    "plt.show()"
   ]
  },
  {
   "cell_type": "code",
   "execution_count": 26,
   "id": "9ba30d5f-a463-4c7c-afa3-97e5d03a293e",
   "metadata": {},
   "outputs": [
    {
     "data": {
      "application/vnd.jupyter.widget-view+json": {
       "model_id": "6523d15805a3462d99049a88f7a23b3a",
       "version_major": 2,
       "version_minor": 0
      },
      "text/plain": [
       "  0%|          | 0/153499 [00:00<?, ?it/s]"
      ]
     },
     "metadata": {},
     "output_type": "display_data"
    },
    {
     "data": {
      "image/png": "[encoded data removed]",
      "text/plain": [
       "<Figure size 640x480 with 1 Axes>"
      ]
     },
     "metadata": {},
     "output_type": "display_data"
    }
   ],
   "source": [
    "#Кривая Хипса\n",
    "cnt = Counter()\n",
    "n_words = []\n",
    "n_tokens = []\n",
    "tokens = []\n",
    "\n",
    "for index, row in tqdm(df.iterrows(), total = len(df)):\n",
    "    tokens = word_tokenize(row['text'])\n",
    "    cnt.update([token for token in tokens if token not in punctuation])\n",
    "    n_words.append(len(cnt))\n",
    "    n_tokens.append(sum(cnt.values()))\n",
    "\n",
    "fig, ax = plt.subplots()\n",
    "ax.plot(n_tokens, n_words)\n",
    "plt.xlabel('Размер текста (общее число слов)')\n",
    "plt.ylabel('Число уникальных слов')\n",
    "plt.show()"
   ]
  },
  {
   "cell_type": "markdown",
   "id": "4c8f1831-9047-4fbe-a84a-c3adb81ca3fc",
   "metadata": {},
   "source": [
    "*5. Ответьте на следующие вопросы*"
   ]
  },
  {
   "cell_type": "code",
   "execution_count": 27,
   "id": "935ab8e5-50dd-4313-8880-c8b3ef08504e",
   "metadata": {},
   "outputs": [
    {
     "name": "stdout",
     "output_type": "stream",
     "text": [
      "чаще встречается слово \"клиент\"\n"
     ]
    }
   ],
   "source": [
    "# какое слово встречается чаще, \"сотрудник\" или \"клиент\"?\n",
    "if freq_dict_lemm['сотрудник'] > freq_dict_lemm['клиент']: print('чаще встречается слово \"сотрудник\"')\n",
    "else: print('чаще встречается слово \"клиент\"')"
   ]
  },
  {
   "cell_type": "code",
   "execution_count": 28,
   "id": "69dfad1f-de5d-45e7-872d-422d308a8cfc",
   "metadata": {},
   "outputs": [
    {
     "name": "stdout",
     "output_type": "stream",
     "text": [
      "Частота слова \"мошенничество\": 3244 \n",
      "Частота слова \"доверие\": 2108\n"
     ]
    }
   ],
   "source": [
    "#сколько раз встречается слова \"мошенничество\" и \"доверие\"?\n",
    "print('Частота слова \"мошенничество\":', freq_dict_lemm['мошенничество'],'\\nЧастота слова \"доверие\":', freq_dict_lemm['доверие'])"
   ]
  },
  {
   "cell_type": "markdown",
   "id": "2b8dbeb9-0f8c-4dd1-9af3-c1acf3b4f99e",
   "metadata": {},
   "source": [
    "*6. Ключевые слова и биграмы для положительных и отрицательных отзывов. Используйте меру TF-IDF, для того, чтобы найти ключевые слова и биграмы для положительных отзывов (с оценкой 5) и отрицательных отзывов (с оценкой 1)*"
   ]
  },
  {
   "cell_type": "code",
   "execution_count": 30,
   "id": "aba99554-06a9-4b86-ba52-3bacde8ec2de",
   "metadata": {},
   "outputs": [
    {
     "name": "stdout",
     "output_type": "stream",
     "text": [
      "Число положительных отзывов: 47387\n",
      "Число отрицательных отзывов: 14713\n"
     ]
    }
   ],
   "source": [
    "# Разделим исходные отзвызы на те, которые имеют оценку \"5\" и на те, у которых оценка \"1\"\n",
    "text_pos = df[(df['rating_grade'] == 1.)]['text']\n",
    "text_neg = df[(df['rating_grade'] == 5.)]['text']\n",
    "\n",
    "print('Число положительных отзывов:', len(text_pos))\n",
    "print('Число отрицательных отзывов:', len(text_neg))"
   ]
  },
  {
   "cell_type": "code",
   "execution_count": 46,
   "id": "1a5f002f-b5a7-4264-bc20-4c3e8ff57ca8",
   "metadata": {},
   "outputs": [
    {
     "data": {
      "text/html": [
       "<style>#sk-container-id-2 {color: black;}#sk-container-id-2 pre{padding: 0;}#sk-container-id-2 div.sk-toggleable {background-color: white;}#sk-container-id-2 label.sk-toggleable__label {cursor: pointer;display: block;width: 100%;margin-bottom: 0;padding: 0.3em;box-sizing: border-box;text-align: center;}#sk-container-id-2 label.sk-toggleable__label-arrow:before {content: \"▸\";float: left;margin-right: 0.25em;color: #696969;}#sk-container-id-2 label.sk-toggleable__label-arrow:hover:before {color: black;}#sk-container-id-2 div.sk-estimator:hover label.sk-toggleable__label-arrow:before {color: black;}#sk-container-id-2 div.sk-toggleable__content {max-height: 0;max-width: 0;overflow: hidden;text-align: left;background-color: #f0f8ff;}#sk-container-id-2 div.sk-toggleable__content pre {margin: 0.2em;color: black;border-radius: 0.25em;background-color: #f0f8ff;}#sk-container-id-2 input.sk-toggleable__control:checked~div.sk-toggleable__content {max-height: 200px;max-width: 100%;overflow: auto;}#sk-container-id-2 input.sk-toggleable__control:checked~label.sk-toggleable__label-arrow:before {content: \"▾\";}#sk-container-id-2 div.sk-estimator input.sk-toggleable__control:checked~label.sk-toggleable__label {background-color: #d4ebff;}#sk-container-id-2 div.sk-label input.sk-toggleable__control:checked~label.sk-toggleable__label {background-color: #d4ebff;}#sk-container-id-2 input.sk-hidden--visually {border: 0;clip: rect(1px 1px 1px 1px);clip: rect(1px, 1px, 1px, 1px);height: 1px;margin: -1px;overflow: hidden;padding: 0;position: absolute;width: 1px;}#sk-container-id-2 div.sk-estimator {font-family: monospace;background-color: #f0f8ff;border: 1px dotted black;border-radius: 0.25em;box-sizing: border-box;margin-bottom: 0.5em;}#sk-container-id-2 div.sk-estimator:hover {background-color: #d4ebff;}#sk-container-id-2 div.sk-parallel-item::after {content: \"\";width: 100%;border-bottom: 1px solid gray;flex-grow: 1;}#sk-container-id-2 div.sk-label:hover label.sk-toggleable__label {background-color: #d4ebff;}#sk-container-id-2 div.sk-serial::before {content: \"\";position: absolute;border-left: 1px solid gray;box-sizing: border-box;top: 0;bottom: 0;left: 50%;z-index: 0;}#sk-container-id-2 div.sk-serial {display: flex;flex-direction: column;align-items: center;background-color: white;padding-right: 0.2em;padding-left: 0.2em;position: relative;}#sk-container-id-2 div.sk-item {position: relative;z-index: 1;}#sk-container-id-2 div.sk-parallel {display: flex;align-items: stretch;justify-content: center;background-color: white;position: relative;}#sk-container-id-2 div.sk-item::before, #sk-container-id-2 div.sk-parallel-item::before {content: \"\";position: absolute;border-left: 1px solid gray;box-sizing: border-box;top: 0;bottom: 0;left: 50%;z-index: -1;}#sk-container-id-2 div.sk-parallel-item {display: flex;flex-direction: column;z-index: 1;position: relative;background-color: white;}#sk-container-id-2 div.sk-parallel-item:first-child::after {align-self: flex-end;width: 50%;}#sk-container-id-2 div.sk-parallel-item:last-child::after {align-self: flex-start;width: 50%;}#sk-container-id-2 div.sk-parallel-item:only-child::after {width: 0;}#sk-container-id-2 div.sk-dashed-wrapped {border: 1px dashed gray;margin: 0 0.4em 0.5em 0.4em;box-sizing: border-box;padding-bottom: 0.4em;background-color: white;}#sk-container-id-2 div.sk-label label {font-family: monospace;font-weight: bold;display: inline-block;line-height: 1.2em;}#sk-container-id-2 div.sk-label-container {text-align: center;}#sk-container-id-2 div.sk-container {/* jupyter's `normalize.less` sets `[hidden] { display: none; }` but bootstrap.min.css set `[hidden] { display: none !important; }` so we also need the `!important` here to be able to override the default hidden behavior on the sphinx rendered scikit-learn.org. See: https://github.com/scikit-learn/scikit-learn/issues/21755 */display: inline-block !important;position: relative;}#sk-container-id-2 div.sk-text-repr-fallback {display: none;}</style><div id=\"sk-container-id-2\" class=\"sk-top-container\"><div class=\"sk-text-repr-fallback\"><pre>TfidfVectorizer()</pre><b>In a Jupyter environment, please rerun this cell to show the HTML representation or trust the notebook. <br />On GitHub, the HTML representation is unable to render, please try loading this page with nbviewer.org.</b></div><div class=\"sk-container\" hidden><div class=\"sk-item\"><div class=\"sk-estimator sk-toggleable\"><input class=\"sk-toggleable__control sk-hidden--visually\" id=\"sk-estimator-id-2\" type=\"checkbox\" checked><label for=\"sk-estimator-id-2\" class=\"sk-toggleable__label sk-toggleable__label-arrow\">TfidfVectorizer</label><div class=\"sk-toggleable__content\"><pre>TfidfVectorizer()</pre></div></div></div></div></div>"
      ],
      "text/plain": [
       "TfidfVectorizer()"
      ]
     },
     "execution_count": 46,
     "metadata": {},
     "output_type": "execute_result"
    }
   ],
   "source": [
    "# TF-IDF. Энграммы из одного слова\n",
    "from sklearn.feature_extraction.text import TfidfVectorizer\n",
    "\n",
    "vec_single_pos = TfidfVectorizer()\n",
    "vec_single_neg = TfidfVectorizer()\n",
    "\n",
    "vec_single_pos.fit(text_pos)\n",
    "vec_single_neg.fit(text_neg)"
   ]
  },
  {
   "cell_type": "markdown",
   "id": "5a5404fd-ce76-4224-8d6e-291c748137bb",
   "metadata": {},
   "source": [
    "*Парс-матрицы корпусов при переводе в массив занимают непропрориционально большой объем памяти (около 20 Гб). Поэтому посмотрим на ключевые слова только в виде словаря*"
   ]
  },
  {
   "cell_type": "code",
   "execution_count": 58,
   "id": "1372e0e3-3b9c-48cd-b9de-4128d0c8c7ca",
   "metadata": {},
   "outputs": [
    {
     "name": "stdout",
     "output_type": "stream",
     "text": [
      "Положительные отзывы\n"
     ]
    },
    {
     "data": {
      "text/plain": [
       "[('открыть', 30978),\n",
       " ('вклад', 5464),\n",
       " ('счёт', 48554),\n",
       " ('плюс', 34053),\n",
       " ('этот', 56114),\n",
       " ('зарплатный', 14130),\n",
       " ('карта', 17047),\n",
       " ('рубль', 43233),\n",
       " ('сам', 43703),\n",
       " ('себя', 44560)]"
      ]
     },
     "metadata": {},
     "output_type": "display_data"
    },
    {
     "name": "stdout",
     "output_type": "stream",
     "text": [
      "\n",
      "Отрицательные отзывы\n"
     ]
    },
    {
     "data": {
      "text/plain": [
       "[('досрочно', 7078),\n",
       " ('закрывать', 8413),\n",
       " ('вклад', 3476),\n",
       " ('отпуск', 19608),\n",
       " ('жена', 7725),\n",
       " ('заказывать', 8326),\n",
       " ('заранее', 8785),\n",
       " ('забыть', 7986),\n",
       " ('заказать', 8322),\n",
       " ('сотрудник', 29509)]"
      ]
     },
     "metadata": {},
     "output_type": "display_data"
    }
   ],
   "source": [
    "# Униграммы. Наиболее частые слова\n",
    "print('Положительные отзывы')\n",
    "display(list(vec_single_pos.vocabulary_.items())[0:10])\n",
    "print()\n",
    "print('Отрицательные отзывы')\n",
    "display(list(vec_single_neg.vocabulary_.items())[0:10])"
   ]
  },
  {
   "cell_type": "code",
   "execution_count": 62,
   "id": "8de92e10-3e64-4e62-85d2-58f2d18cb520",
   "metadata": {},
   "outputs": [
    {
     "data": {
      "text/html": [
       "<style>#sk-container-id-4 {color: black;}#sk-container-id-4 pre{padding: 0;}#sk-container-id-4 div.sk-toggleable {background-color: white;}#sk-container-id-4 label.sk-toggleable__label {cursor: pointer;display: block;width: 100%;margin-bottom: 0;padding: 0.3em;box-sizing: border-box;text-align: center;}#sk-container-id-4 label.sk-toggleable__label-arrow:before {content: \"▸\";float: left;margin-right: 0.25em;color: #696969;}#sk-container-id-4 label.sk-toggleable__label-arrow:hover:before {color: black;}#sk-container-id-4 div.sk-estimator:hover label.sk-toggleable__label-arrow:before {color: black;}#sk-container-id-4 div.sk-toggleable__content {max-height: 0;max-width: 0;overflow: hidden;text-align: left;background-color: #f0f8ff;}#sk-container-id-4 div.sk-toggleable__content pre {margin: 0.2em;color: black;border-radius: 0.25em;background-color: #f0f8ff;}#sk-container-id-4 input.sk-toggleable__control:checked~div.sk-toggleable__content {max-height: 200px;max-width: 100%;overflow: auto;}#sk-container-id-4 input.sk-toggleable__control:checked~label.sk-toggleable__label-arrow:before {content: \"▾\";}#sk-container-id-4 div.sk-estimator input.sk-toggleable__control:checked~label.sk-toggleable__label {background-color: #d4ebff;}#sk-container-id-4 div.sk-label input.sk-toggleable__control:checked~label.sk-toggleable__label {background-color: #d4ebff;}#sk-container-id-4 input.sk-hidden--visually {border: 0;clip: rect(1px 1px 1px 1px);clip: rect(1px, 1px, 1px, 1px);height: 1px;margin: -1px;overflow: hidden;padding: 0;position: absolute;width: 1px;}#sk-container-id-4 div.sk-estimator {font-family: monospace;background-color: #f0f8ff;border: 1px dotted black;border-radius: 0.25em;box-sizing: border-box;margin-bottom: 0.5em;}#sk-container-id-4 div.sk-estimator:hover {background-color: #d4ebff;}#sk-container-id-4 div.sk-parallel-item::after {content: \"\";width: 100%;border-bottom: 1px solid gray;flex-grow: 1;}#sk-container-id-4 div.sk-label:hover label.sk-toggleable__label {background-color: #d4ebff;}#sk-container-id-4 div.sk-serial::before {content: \"\";position: absolute;border-left: 1px solid gray;box-sizing: border-box;top: 0;bottom: 0;left: 50%;z-index: 0;}#sk-container-id-4 div.sk-serial {display: flex;flex-direction: column;align-items: center;background-color: white;padding-right: 0.2em;padding-left: 0.2em;position: relative;}#sk-container-id-4 div.sk-item {position: relative;z-index: 1;}#sk-container-id-4 div.sk-parallel {display: flex;align-items: stretch;justify-content: center;background-color: white;position: relative;}#sk-container-id-4 div.sk-item::before, #sk-container-id-4 div.sk-parallel-item::before {content: \"\";position: absolute;border-left: 1px solid gray;box-sizing: border-box;top: 0;bottom: 0;left: 50%;z-index: -1;}#sk-container-id-4 div.sk-parallel-item {display: flex;flex-direction: column;z-index: 1;position: relative;background-color: white;}#sk-container-id-4 div.sk-parallel-item:first-child::after {align-self: flex-end;width: 50%;}#sk-container-id-4 div.sk-parallel-item:last-child::after {align-self: flex-start;width: 50%;}#sk-container-id-4 div.sk-parallel-item:only-child::after {width: 0;}#sk-container-id-4 div.sk-dashed-wrapped {border: 1px dashed gray;margin: 0 0.4em 0.5em 0.4em;box-sizing: border-box;padding-bottom: 0.4em;background-color: white;}#sk-container-id-4 div.sk-label label {font-family: monospace;font-weight: bold;display: inline-block;line-height: 1.2em;}#sk-container-id-4 div.sk-label-container {text-align: center;}#sk-container-id-4 div.sk-container {/* jupyter's `normalize.less` sets `[hidden] { display: none; }` but bootstrap.min.css set `[hidden] { display: none !important; }` so we also need the `!important` here to be able to override the default hidden behavior on the sphinx rendered scikit-learn.org. See: https://github.com/scikit-learn/scikit-learn/issues/21755 */display: inline-block !important;position: relative;}#sk-container-id-4 div.sk-text-repr-fallback {display: none;}</style><div id=\"sk-container-id-4\" class=\"sk-top-container\"><div class=\"sk-text-repr-fallback\"><pre>TfidfVectorizer(ngram_range=(2, 2))</pre><b>In a Jupyter environment, please rerun this cell to show the HTML representation or trust the notebook. <br />On GitHub, the HTML representation is unable to render, please try loading this page with nbviewer.org.</b></div><div class=\"sk-container\" hidden><div class=\"sk-item\"><div class=\"sk-estimator sk-toggleable\"><input class=\"sk-toggleable__control sk-hidden--visually\" id=\"sk-estimator-id-4\" type=\"checkbox\" checked><label for=\"sk-estimator-id-4\" class=\"sk-toggleable__label sk-toggleable__label-arrow\">TfidfVectorizer</label><div class=\"sk-toggleable__content\"><pre>TfidfVectorizer(ngram_range=(2, 2))</pre></div></div></div></div></div>"
      ],
      "text/plain": [
       "TfidfVectorizer(ngram_range=(2, 2))"
      ]
     },
     "execution_count": 62,
     "metadata": {},
     "output_type": "execute_result"
    }
   ],
   "source": [
    "# TF-IDF. Энграммы из двух слов\n",
    "vec_double_pos = TfidfVectorizer(ngram_range = (2,2))\n",
    "vec_double_neg = TfidfVectorizer(ngram_range = (2,2))\n",
    "\n",
    "vec_double_pos.fit(text_pos)\n",
    "vec_double_neg.fit(text_neg)"
   ]
  },
  {
   "cell_type": "code",
   "execution_count": 64,
   "id": "08385a11-5831-46d0-903d-b4b0af9d98b4",
   "metadata": {},
   "outputs": [
    {
     "name": "stdout",
     "output_type": "stream",
     "text": [
      "Положительные отзывы\n"
     ]
    },
    {
     "data": {
      "text/plain": [
       "[('открыть вклад', 1115529),\n",
       " ('вклад счёт', 158201),\n",
       " ('счёт плюс', 1868963),\n",
       " ('плюс этот', 1229951),\n",
       " ('этот зарплатный', 2110371),\n",
       " ('зарплатный карта', 503082),\n",
       " ('карта рубль', 621005),\n",
       " ('рубль сам', 1621305),\n",
       " ('сам себя', 1637778),\n",
       " ('себя сегодня', 1672547)]"
      ]
     },
     "metadata": {},
     "output_type": "display_data"
    },
    {
     "name": "stdout",
     "output_type": "stream",
     "text": [
      "\n",
      "Отрицательные отзывы\n"
     ]
    },
    {
     "data": {
      "text/plain": [
       "[('досрочно закрывать', 163496),\n",
       " ('закрывать вклад', 191596),\n",
       " ('вклад отпуск', 66760),\n",
       " ('отпуск жена', 449144),\n",
       " ('жена заказывать', 179402),\n",
       " ('заказывать заранее', 190057),\n",
       " ('заранее забыть', 200435),\n",
       " ('забыть заказать', 184004),\n",
       " ('заказать сотрудник', 189935),\n",
       " ('сотрудник банк', 703778)]"
      ]
     },
     "metadata": {},
     "output_type": "display_data"
    }
   ],
   "source": [
    "# Биграммы. Наиболее частые слова\n",
    "print('Положительные отзывы')\n",
    "display(list(vec_double_pos.vocabulary_.items())[0:10])\n",
    "print()\n",
    "print('Отрицательные отзывы')\n",
    "display(list(vec_double_neg.vocabulary_.items())[0:10])"
   ]
  },
  {
   "cell_type": "code",
   "execution_count": 66,
   "id": "998dfa45-774a-4212-b3c7-ecdc2d3b36a1",
   "metadata": {},
   "outputs": [
    {
     "data": {
      "text/html": [
       "<style>#sk-container-id-5 {color: black;}#sk-container-id-5 pre{padding: 0;}#sk-container-id-5 div.sk-toggleable {background-color: white;}#sk-container-id-5 label.sk-toggleable__label {cursor: pointer;display: block;width: 100%;margin-bottom: 0;padding: 0.3em;box-sizing: border-box;text-align: center;}#sk-container-id-5 label.sk-toggleable__label-arrow:before {content: \"▸\";float: left;margin-right: 0.25em;color: #696969;}#sk-container-id-5 label.sk-toggleable__label-arrow:hover:before {color: black;}#sk-container-id-5 div.sk-estimator:hover label.sk-toggleable__label-arrow:before {color: black;}#sk-container-id-5 div.sk-toggleable__content {max-height: 0;max-width: 0;overflow: hidden;text-align: left;background-color: #f0f8ff;}#sk-container-id-5 div.sk-toggleable__content pre {margin: 0.2em;color: black;border-radius: 0.25em;background-color: #f0f8ff;}#sk-container-id-5 input.sk-toggleable__control:checked~div.sk-toggleable__content {max-height: 200px;max-width: 100%;overflow: auto;}#sk-container-id-5 input.sk-toggleable__control:checked~label.sk-toggleable__label-arrow:before {content: \"▾\";}#sk-container-id-5 div.sk-estimator input.sk-toggleable__control:checked~label.sk-toggleable__label {background-color: #d4ebff;}#sk-container-id-5 div.sk-label input.sk-toggleable__control:checked~label.sk-toggleable__label {background-color: #d4ebff;}#sk-container-id-5 input.sk-hidden--visually {border: 0;clip: rect(1px 1px 1px 1px);clip: rect(1px, 1px, 1px, 1px);height: 1px;margin: -1px;overflow: hidden;padding: 0;position: absolute;width: 1px;}#sk-container-id-5 div.sk-estimator {font-family: monospace;background-color: #f0f8ff;border: 1px dotted black;border-radius: 0.25em;box-sizing: border-box;margin-bottom: 0.5em;}#sk-container-id-5 div.sk-estimator:hover {background-color: #d4ebff;}#sk-container-id-5 div.sk-parallel-item::after {content: \"\";width: 100%;border-bottom: 1px solid gray;flex-grow: 1;}#sk-container-id-5 div.sk-label:hover label.sk-toggleable__label {background-color: #d4ebff;}#sk-container-id-5 div.sk-serial::before {content: \"\";position: absolute;border-left: 1px solid gray;box-sizing: border-box;top: 0;bottom: 0;left: 50%;z-index: 0;}#sk-container-id-5 div.sk-serial {display: flex;flex-direction: column;align-items: center;background-color: white;padding-right: 0.2em;padding-left: 0.2em;position: relative;}#sk-container-id-5 div.sk-item {position: relative;z-index: 1;}#sk-container-id-5 div.sk-parallel {display: flex;align-items: stretch;justify-content: center;background-color: white;position: relative;}#sk-container-id-5 div.sk-item::before, #sk-container-id-5 div.sk-parallel-item::before {content: \"\";position: absolute;border-left: 1px solid gray;box-sizing: border-box;top: 0;bottom: 0;left: 50%;z-index: -1;}#sk-container-id-5 div.sk-parallel-item {display: flex;flex-direction: column;z-index: 1;position: relative;background-color: white;}#sk-container-id-5 div.sk-parallel-item:first-child::after {align-self: flex-end;width: 50%;}#sk-container-id-5 div.sk-parallel-item:last-child::after {align-self: flex-start;width: 50%;}#sk-container-id-5 div.sk-parallel-item:only-child::after {width: 0;}#sk-container-id-5 div.sk-dashed-wrapped {border: 1px dashed gray;margin: 0 0.4em 0.5em 0.4em;box-sizing: border-box;padding-bottom: 0.4em;background-color: white;}#sk-container-id-5 div.sk-label label {font-family: monospace;font-weight: bold;display: inline-block;line-height: 1.2em;}#sk-container-id-5 div.sk-label-container {text-align: center;}#sk-container-id-5 div.sk-container {/* jupyter's `normalize.less` sets `[hidden] { display: none; }` but bootstrap.min.css set `[hidden] { display: none !important; }` so we also need the `!important` here to be able to override the default hidden behavior on the sphinx rendered scikit-learn.org. See: https://github.com/scikit-learn/scikit-learn/issues/21755 */display: inline-block !important;position: relative;}#sk-container-id-5 div.sk-text-repr-fallback {display: none;}</style><div id=\"sk-container-id-5\" class=\"sk-top-container\"><div class=\"sk-text-repr-fallback\"><pre>TfidfVectorizer(ngram_range=(3, 3))</pre><b>In a Jupyter environment, please rerun this cell to show the HTML representation or trust the notebook. <br />On GitHub, the HTML representation is unable to render, please try loading this page with nbviewer.org.</b></div><div class=\"sk-container\" hidden><div class=\"sk-item\"><div class=\"sk-estimator sk-toggleable\"><input class=\"sk-toggleable__control sk-hidden--visually\" id=\"sk-estimator-id-5\" type=\"checkbox\" checked><label for=\"sk-estimator-id-5\" class=\"sk-toggleable__label sk-toggleable__label-arrow\">TfidfVectorizer</label><div class=\"sk-toggleable__content\"><pre>TfidfVectorizer(ngram_range=(3, 3))</pre></div></div></div></div></div>"
      ],
      "text/plain": [
       "TfidfVectorizer(ngram_range=(3, 3))"
      ]
     },
     "execution_count": 66,
     "metadata": {},
     "output_type": "execute_result"
    }
   ],
   "source": [
    "# TF-IDF. Энграммы из трех слов\n",
    "vec_tri_pos = TfidfVectorizer(ngram_range = (3,3))\n",
    "vec_tri_neg = TfidfVectorizer(ngram_range = (3,3))\n",
    "\n",
    "vec_tri_pos.fit(text_pos)\n",
    "vec_tri_neg.fit(text_neg)"
   ]
  },
  {
   "cell_type": "code",
   "execution_count": 68,
   "id": "f8434f52-6a8f-4365-a9ac-7b1dd3ce4b64",
   "metadata": {},
   "outputs": [
    {
     "name": "stdout",
     "output_type": "stream",
     "text": [
      "Положительные отзывы\n"
     ]
    },
    {
     "data": {
      "text/plain": [
       "[('открыть вклад счёт', 3239138),\n",
       " ('вклад счёт плюс', 481376),\n",
       " ('счёт плюс этот', 5314725),\n",
       " ('плюс этот зарплатный', 3555244),\n",
       " ('этот зарплатный карта', 5959690),\n",
       " ('зарплатный карта рубль', 1474375),\n",
       " ('карта рубль сам', 1844104),\n",
       " ('рубль сам себя', 4570653),\n",
       " ('сам себя сегодня', 4618768),\n",
       " ('себя сегодня прийти', 4729764)]"
      ]
     },
     "metadata": {},
     "output_type": "display_data"
    },
    {
     "name": "stdout",
     "output_type": "stream",
     "text": [
      "\n",
      "Отрицательные отзывы\n"
     ]
    },
    {
     "data": {
      "text/plain": [
       "[('досрочно закрывать вклад', 364795),\n",
       " ('закрывать вклад отпуск', 414341),\n",
       " ('вклад отпуск жена', 158352),\n",
       " ('отпуск жена заказывать', 931766),\n",
       " ('жена заказывать заранее', 395258),\n",
       " ('заказывать заранее забыть', 411966),\n",
       " ('заранее забыть заказать', 429459),\n",
       " ('забыть заказать сотрудник', 402507),\n",
       " ('заказать сотрудник банк', 411716),\n",
       " ('сотрудник банк спб', 1428059)]"
      ]
     },
     "metadata": {},
     "output_type": "display_data"
    }
   ],
   "source": [
    "# Триграммы. Наиболее частые слова\n",
    "print('Положительные отзывы')\n",
    "display(list(vec_tri_pos.vocabulary_.items())[0:10])\n",
    "print()\n",
    "print('Отрицательные отзывы')\n",
    "display(list(vec_tri_neg.vocabulary_.items())[0:10])"
   ]
  },
  {
   "cell_type": "markdown",
   "id": "26758548-b630-4df6-9b0d-96da9e3163ff",
   "metadata": {},
   "source": [
    "**Часть 2. Тематическое моделирование**"
   ]
  },
  {
   "cell_type": "code",
   "execution_count": 72,
   "id": "9b3177e9-5079-4bbe-a9a9-c39f0fb81ca8",
   "metadata": {},
   "outputs": [
    {
     "name": "stdout",
     "output_type": "stream",
     "text": [
      "Тексты без темы: 1223\n",
      "Число уникальных тем: 152276\n",
      "\n",
      "20 самых частых тем:\n",
      " Претензия                       364\n",
      "Кредитная карта                 317\n",
      "Жалоба                          286\n",
      "Благодарность                   248\n",
      "Звонки из банка                 203\n",
      "Банкомат съел деньги            176\n",
      "Автокредит                      163\n",
      "Телефонный терроризм            158\n",
      "Потребительский кредит          157\n",
      "Перевыпуск карты                155\n",
      "Отвратительное обслуживание     152\n",
      "Хороший банк                    150\n",
      "Некомпетентность сотрудников    147\n",
      "Отличный банк                   146\n",
      "Ипотека                         144\n",
      "Открытие вклада                 130\n",
      "Звонки                          122\n",
      "Обслуживание                    119\n",
      "Украли деньги с карты           119\n",
      "Реструктуризация                118\n",
      "Name: title, dtype: int64\n"
     ]
    }
   ],
   "source": [
    "# Посмотрим на уже существующие темы\n",
    "print('Тексты без темы:', len(df[(df['title'] == '')]))\n",
    "print('Число уникальных тем:', len(df[(df['title'] != '')]))\n",
    "print()\n",
    "print('20 самых частых тем:\\n', df[(df['title'] != '')]['title'].value_counts()[0:20])"
   ]
  },
  {
   "cell_type": "markdown",
   "id": "6e7fe5ca-cf0c-4e7f-8733-7e6d4153c193",
   "metadata": {},
   "source": [
    "*2.1. Модель латентно-семантического анализа*"
   ]
  },
  {
   "cell_type": "code",
   "execution_count": 76,
   "id": "e3db776d-036b-4c3f-9a71-509f7105a48b",
   "metadata": {},
   "outputs": [
    {
     "data": {
      "application/vnd.jupyter.widget-view+json": {
       "model_id": "944f2b9dd53a4f0393b0f764a166f61d",
       "version_major": 2,
       "version_minor": 0
      },
      "text/plain": [
       "  0%|          | 0/153499 [00:00<?, ?it/s]"
      ]
     },
     "metadata": {},
     "output_type": "display_data"
    },
    {
     "data": {
      "application/vnd.jupyter.widget-view+json": {
       "model_id": "bc26328e14e24c0a860c6b0ec967728c",
       "version_major": 2,
       "version_minor": 0
      },
      "text/plain": [
       "  0%|          | 0/153499 [00:00<?, ?it/s]"
      ]
     },
     "metadata": {},
     "output_type": "display_data"
    }
   ],
   "source": [
    "# Создание словаря и \"мешка слов\"\n",
    "from gensim.corpora import Dictionary\n",
    "from gensim.models import TfidfModel\n",
    "from gensim.models import lsimodel\n",
    "\n",
    "texts = [text.split() for text in tqdm(df['text'])]\n",
    "dictionary = Dictionary(texts)\n",
    "corpus = [dictionary.doc2bow(text) for text in tqdm(texts)]\n",
    "\n",
    "#TF-IDF-векторизация\n",
    "tfidf = TfidfModel(corpus)\n",
    "corpus_tfidf = tfidf[corpus]"
   ]
  },
  {
   "cell_type": "code",
   "execution_count": 77,
   "id": "087c96cf-4f94-42cc-bba5-22301fdc81ad",
   "metadata": {},
   "outputs": [],
   "source": [
    "# Модели LSA. Т.к. создание модели для всех уникалдьных тем (122 940) займет слишком много памяти, используем модели для 50, 100 и 200 тем\n",
    "lsi_50 = lsimodel.LsiModel(corpus = corpus_tfidf, id2word = dictionary, num_topics = 50)\n",
    "lsi_100 = lsimodel.LsiModel(corpus = corpus_tfidf, id2word = dictionary, num_topics = 100)\n",
    "lsi_200 = lsimodel.LsiModel(corpus = corpus_tfidf, id2word = dictionary, num_topics = 200)"
   ]
  },
  {
   "cell_type": "code",
   "execution_count": 78,
   "id": "823808ec-6bd3-4aef-9427-51a0805f665d",
   "metadata": {},
   "outputs": [
    {
     "name": "stdout",
     "output_type": "stream",
     "text": [
      "LSA 50 тем\n",
      "0.192*\"карта\", 0.131*\"кредит\", 0.113*\"деньга\", 0.108*\"заявление\", 0.105*\"счёт\", 0.100*\"банкомат\", 0.099*\"вклад\", 0.099*\"отделение\", 0.095*\"сбербанк\", 0.095*\"сумма\"\n",
      "\n",
      "-0.380*\"вклад\", 0.357*\"кредит\", -0.215*\"банкомат\", -0.171*\"карта\", 0.164*\"страховка\", 0.146*\"задолженность\", 0.142*\"платёж\", 0.137*\"погашение\", -0.120*\"деньга\", 0.117*\"звонок\"\n",
      "\n",
      "-0.496*\"вклад\", 0.278*\"банкомат\", 0.217*\"карта\", 0.185*\"сбербанк\", 0.135*\"заявление\", -0.129*\"кредит\", 0.121*\"операция\", 0.118*\"деньга\", -0.118*\"договор\", 0.116*\"средство\"\n",
      "\n",
      "-0.257*\"вклад\", -0.219*\"сумма\", 0.208*\"номер\", -0.188*\"руб\", 0.165*\"заявка\", -0.159*\"погашение\", -0.156*\"платёж\", 0.156*\"звонок\", -0.155*\"договор\", -0.146*\"рубль\"\n",
      "\n",
      "0.337*\"вклад\", -0.262*\"карта\", 0.260*\"номер\", -0.206*\"страховка\", -0.196*\"заявка\", 0.180*\"звонок\", 0.139*\"ваш\", -0.139*\"кредит\", 0.132*\"телефон\", -0.129*\"лимит\"\n",
      "\n",
      "\n",
      "LSA 100 тем\n",
      "0.192*\"карта\", 0.131*\"кредит\", 0.113*\"деньга\", 0.108*\"заявление\", 0.105*\"счёт\", 0.100*\"банкомат\", 0.099*\"вклад\", 0.099*\"отделение\", 0.095*\"сбербанк\", 0.095*\"сумма\"\n",
      "\n",
      "-0.380*\"вклад\", 0.357*\"кредит\", -0.215*\"банкомат\", -0.171*\"карта\", 0.164*\"страховка\", 0.146*\"задолженность\", 0.142*\"платёж\", 0.137*\"погашение\", -0.120*\"деньга\", 0.117*\"звонок\"\n",
      "\n",
      "-0.496*\"вклад\", 0.278*\"банкомат\", 0.217*\"карта\", 0.185*\"сбербанк\", 0.135*\"заявление\", -0.129*\"кредит\", 0.121*\"операция\", 0.118*\"деньга\", -0.118*\"договор\", 0.116*\"средство\"\n",
      "\n",
      "-0.257*\"вклад\", -0.219*\"сумма\", 0.208*\"номер\", -0.188*\"руб\", 0.165*\"заявка\", -0.159*\"погашение\", -0.156*\"платёж\", 0.156*\"звонок\", -0.155*\"договор\", -0.146*\"рубль\"\n",
      "\n",
      "0.337*\"вклад\", -0.262*\"карта\", 0.260*\"номер\", -0.206*\"страховка\", -0.196*\"заявка\", 0.180*\"звонок\", 0.139*\"ваш\", -0.139*\"кредит\", 0.132*\"телефон\", -0.129*\"лимит\"\n",
      "\n",
      "\n",
      "LSA 200 тем\n",
      "0.192*\"карта\", 0.131*\"кредит\", 0.113*\"деньга\", 0.108*\"заявление\", 0.105*\"счёт\", 0.100*\"банкомат\", 0.099*\"вклад\", 0.099*\"отделение\", 0.095*\"сбербанк\", 0.095*\"сумма\"\n",
      "\n",
      "-0.380*\"вклад\", 0.357*\"кредит\", -0.215*\"банкомат\", -0.171*\"карта\", 0.164*\"страховка\", 0.146*\"задолженность\", 0.142*\"платёж\", 0.137*\"погашение\", -0.120*\"деньга\", 0.117*\"звонок\"\n",
      "\n",
      "-0.496*\"вклад\", 0.278*\"банкомат\", 0.217*\"карта\", 0.185*\"сбербанк\", 0.135*\"заявление\", -0.129*\"кредит\", 0.121*\"операция\", 0.118*\"деньга\", -0.118*\"договор\", 0.116*\"средство\"\n",
      "\n",
      "-0.257*\"вклад\", -0.219*\"сумма\", 0.208*\"номер\", -0.188*\"руб\", 0.165*\"заявка\", -0.159*\"погашение\", -0.156*\"платёж\", 0.156*\"звонок\", -0.155*\"договор\", -0.146*\"рубль\"\n",
      "\n",
      "0.337*\"вклад\", -0.262*\"карта\", 0.260*\"номер\", -0.206*\"страховка\", -0.196*\"заявка\", 0.180*\"звонок\", 0.139*\"ваш\", -0.139*\"кредит\", 0.132*\"телефон\", -0.129*\"лимит\"\n",
      "\n"
     ]
    }
   ],
   "source": [
    "print('LSA 50 тем')\n",
    "for t in lsi_50.show_topics(5):\n",
    "    print(t[1].replace(' + ', ', '))\n",
    "    print()\n",
    "print()\n",
    "print('LSA 100 тем')\n",
    "for t in lsi_50.show_topics(5):\n",
    "    print(t[1].replace(' + ', ', '))\n",
    "    print()\n",
    "print()\n",
    "print('LSA 200 тем')\n",
    "for t in lsi_50.show_topics(5):\n",
    "    print(t[1].replace(' + ', ', '))\n",
    "    print()"
   ]
  },
  {
   "cell_type": "markdown",
   "id": "50463092-135c-42d8-aa91-00f437cb0b2c",
   "metadata": {},
   "source": [
    "2.2. *Примеры понятных (интерпретируемых) тем*\n",
    "\n",
    "Тема \"0.361*\"кредит\", -0.357*\"вклад\", -0.228*\"банкомат\", -0.180*\"карта\", 0.168*\"страховка\", 0.145*\"задолженность\", 0.139*\"платёж\", 0.136*\"погашение\", -0.126*\"деньга\", 0.120*\"звонок\". Эта тема может описывать тексты, в которых упоминается выплата по кредиту. Ее можно сопоставить с такими уже имеющимися темами как \"Кредит\" и \"Досрочное погашение кредита\".\n",
    "\n",
    "Тема \"0.345*\"вклад\", -0.259*\"карта\", 0.253*\"номер\", -0.207*\"заявка\", -0.201*\"страховка\", 0.179*\"звонок\", 0.139*\"ваш\", -0.136*\"кредит\", 0.128*\"телефон\", -0.124*\"лимит\". Эта тема может описывать тексты, посвященные операциям по вкладам через колл-центр банка. Ее можно сопоставить с такими уже имеющимися темами как \"Открытие вклада\", \"Звонки\" и \"Вклад\".\n",
    "\n",
    "Тема \"0.481*\"банкомат\", -0.367*\"карта\", 0.159*\"купюра\", 0.141*\"деньга\", -0.139*\"лимит\", -0.136*\"кредитный\", 0.123*\"кредит\", -0.119*\"смс\", 0.115*\"чек\", 0.111*\"очередь\". Эта тема может касаться текстов, посвященных работе банкоматов. Ее можно сопоставить с такими уже имеющимися темами как \"Банкомат съел деньги\", \"Банкоматы\" и \"Банкомат не выдал деньги\"."
   ]
  },
  {
   "cell_type": "markdown",
   "id": "7d9ec463-602b-4d28-a7ce-6b3bee961832",
   "metadata": {},
   "source": [
    "2.3. *Темы, в которых упомянуты конкретные банки (Сбербанк, ВТБ, другой банк).*"
   ]
  },
  {
   "cell_type": "code",
   "execution_count": 87,
   "id": "2af9fad7-3050-44e2-a90f-5d9e75ff1516",
   "metadata": {},
   "outputs": [
    {
     "name": "stdout",
     "output_type": "stream",
     "text": [
      "Найдено 54 тем\n",
      "\n"
     ]
    },
    {
     "data": {
      "text/plain": [
       "['-0.300*\"справка\", -0.212*\"страховка\", 0.199*\"линия\", 0.196*\"горячий\", -0.174*\"задолженность\", -0.169*\"очередь\", -0.162*\"перевод\", -0.161*\"номер\", -0.159*\"втб\", 0.155*\"связный\"',\n",
       " '0.286*\"претензия\", -0.237*\"заявление\", -0.226*\"платёж\", 0.212*\"втб\", 0.175*\"договор\", -0.175*\"услуга\", -0.161*\"справка\", -0.161*\"альфа\", 0.145*\"код\", -0.137*\"лимит\"',\n",
       " '-0.240*\"справка\", -0.222*\"горячий\", -0.221*\"линия\", 0.216*\"перевод\", 0.203*\"задолженность\", 0.195*\"рубль\", -0.190*\"втб\", -0.184*\"лимит\", -0.147*\"платёж\", 0.136*\"купюра\"',\n",
       " '0.331*\"втб\", 0.285*\"лимит\", -0.247*\"справка\", -0.191*\"договор\", -0.171*\"р\", 0.170*\"терминал\", 0.159*\"рубль\", 0.155*\"код\", 0.150*\"телебанк\", 0.145*\"карточка\"',\n",
       " '0.307*\"центр\", -0.289*\"горячий\", -0.284*\"линия\", 0.281*\"колл\", -0.195*\"втб\", -0.167*\"купюра\", 0.140*\"кредит\", -0.135*\"справка\", -0.134*\"рубль\", 0.118*\"кредитный\"',\n",
       " '-0.254*\"центр\", -0.238*\"колл\", -0.213*\"втб\", -0.186*\"ваш\", -0.169*\"услуга\", 0.154*\"выписка\", 0.149*\"горячий\", -0.148*\"р\", 0.147*\"линия\", 0.144*\"рубль\"',\n",
       " '-0.348*\"ваш\", 0.291*\"втб\", 0.197*\"ставка\", 0.171*\"центр\", 0.155*\"колл\", 0.146*\"офис\", 0.144*\"карточка\", 0.141*\"денежный\", 0.140*\"р\", -0.140*\"заявка\"',\n",
       " '-0.225*\"смс\", -0.215*\"горячий\", -0.214*\"линия\", -0.209*\"страховка\", 0.209*\"ваш\", 0.152*\"поддержка\", -0.152*\"персональный\", 0.149*\"договор\", 0.145*\"служба\", 0.145*\"втб\"',\n",
       " '-0.314*\"поддержка\", -0.294*\"служба\", 0.247*\"втб\", 0.212*\"карточка\", 0.203*\"заявка\", 0.195*\"центр\", 0.189*\"колл\", 0.181*\"выписка\", -0.156*\"купюра\", -0.123*\"средство\"',\n",
       " '-0.301*\"код\", -0.264*\"пин\", 0.259*\"втб\", -0.199*\"претензия\", -0.170*\"пароль\", -0.166*\"купюра\", -0.155*\"номер\", -0.151*\"кассир\", -0.146*\"заявка\", 0.141*\"смс\"',\n",
       " '0.281*\"связный\", -0.268*\"выписка\", 0.261*\"втб\", -0.231*\"услуга\", -0.215*\"карточка\", 0.138*\"заявление\", -0.137*\"депозит\", 0.137*\"закрытие\", -0.135*\"деньга\", 0.135*\"справка\"',\n",
       " '0.259*\"кассир\", 0.249*\"стандарт\", 0.245*\"русский\", 0.220*\"купюра\", 0.205*\"касса\", -0.176*\"рубль\", -0.158*\"ваш\", 0.144*\"альфа\", -0.143*\"претензия\", 0.142*\"втб\"',\n",
       " '0.365*\"менеджер\", -0.276*\"оператор\", 0.219*\"претензия\", 0.218*\"страхование\", 0.211*\"страховой\", 0.190*\"связный\", -0.180*\"страховка\", -0.158*\"специалист\", -0.140*\"договор\", -0.139*\"втб\"',\n",
       " '0.306*\"март\", 0.218*\"специалист\", 0.196*\"апрель\", 0.144*\"обращение\", 0.137*\"деньга\", -0.130*\"заблокировать\", 0.125*\"система\", -0.118*\"филиал\", 0.117*\"дата\", 0.116*\"срок\"',\n",
       " '0.239*\"филиал\", 0.217*\"магазин\", -0.185*\"ситибанк\", 0.170*\"евро\", 0.166*\"новый\", -0.145*\"май\", 0.140*\"мобильный\", 0.136*\"март\", 0.131*\"минута\", 0.129*\"просрочка\"',\n",
       " '0.257*\"мкб\", 0.185*\"интернет\", -0.181*\"система\", 0.172*\"проблема\", 0.160*\"акция\", -0.152*\"ситибанк\", 0.129*\"решение\", -0.125*\"отп\", 0.124*\"отделение\", 0.120*\"вопрос\"',\n",
       " '0.257*\"мкб\", 0.185*\"интернет\", -0.181*\"система\", 0.172*\"проблема\", 0.160*\"акция\", -0.152*\"ситибанк\", 0.129*\"решение\", -0.125*\"отп\", 0.124*\"отделение\", 0.120*\"вопрос\"',\n",
       " '-0.186*\"август\", -0.185*\"март\", 0.184*\"май\", -0.179*\"сентябрь\", 0.169*\"муж\", 0.149*\"страхование\", -0.139*\"звонить\", -0.123*\"говорить\", -0.121*\"ситибанк\", -0.119*\"филиал\"',\n",
       " '0.292*\"отп\", -0.204*\"ситибанк\", -0.183*\"траст\", 0.154*\"мкб\", 0.147*\"сб\", -0.139*\"минута\", -0.121*\"информация\", 0.117*\"долг\", 0.117*\"пароль\", 0.117*\"го\"',\n",
       " '-0.201*\"отп\", 0.176*\"сб\", 0.172*\"ткс\", -0.168*\"мкб\", 0.156*\"сей\", 0.153*\"пора\", -0.149*\"просрочка\", -0.146*\"интернет\", -0.137*\"неделя\", 0.134*\"система\"',\n",
       " '-0.216*\"муж\", 0.205*\"штраф\", -0.200*\"ситибанк\", -0.193*\"тариф\", 0.182*\"отп\", 0.171*\"мкб\", -0.147*\"филиал\", 0.147*\"система\", 0.146*\"данный\", -0.146*\"мобильный\"',\n",
       " '-0.216*\"муж\", 0.205*\"штраф\", -0.200*\"ситибанк\", -0.193*\"тариф\", 0.182*\"отп\", 0.171*\"мкб\", -0.147*\"филиал\", 0.147*\"система\", 0.146*\"данный\", -0.146*\"мобильный\"',\n",
       " '-0.322*\"муж\", 0.250*\"мама\", -0.211*\"траст\", 0.168*\"ситибанк\", -0.160*\"мобильный\", -0.159*\"система\", -0.148*\"телефон\", 0.125*\"интернет\", -0.120*\"сбой\", 0.119*\"птс\"',\n",
       " '-0.322*\"муж\", 0.250*\"мама\", -0.211*\"траст\", 0.168*\"ситибанк\", -0.160*\"мобильный\", -0.159*\"система\", -0.148*\"телефон\", 0.125*\"интернет\", -0.120*\"сбой\", 0.119*\"птс\"',\n",
       " '-0.273*\"мама\", -0.194*\"ситибанк\", 0.179*\"мкб\", -0.174*\"операционист\", 0.166*\"сотрудница\", -0.152*\"анкета\", 0.149*\"система\", 0.148*\"муж\", 0.142*\"номер\", -0.139*\"траст\"',\n",
       " '-0.273*\"мама\", -0.194*\"ситибанк\", 0.179*\"мкб\", -0.174*\"операционист\", 0.166*\"сотрудница\", -0.152*\"анкета\", 0.149*\"система\", 0.148*\"муж\", 0.142*\"номер\", -0.139*\"траст\"',\n",
       " '-0.328*\"мама\", 0.195*\"сб\", 0.172*\"период\", 0.159*\"внести\", -0.137*\"дата\", -0.134*\"система\", 0.128*\"льготный\", -0.127*\"тариф\", 0.122*\"ситибанк\", 0.122*\"отп\"',\n",
       " '-0.328*\"мама\", 0.195*\"сб\", 0.172*\"период\", 0.159*\"внести\", -0.137*\"дата\", -0.134*\"система\", 0.128*\"льготный\", -0.127*\"тариф\", 0.122*\"ситибанк\", 0.122*\"отп\"',\n",
       " '0.313*\"отп\", 0.211*\"муж\", -0.164*\"операционист\", -0.162*\"платить\", -0.154*\"просрочка\", 0.146*\"штраф\", -0.144*\"паспорт\", -0.144*\"система\", -0.131*\"мама\", -0.127*\"звонок\"',\n",
       " '-0.258*\"сб\", 0.214*\"мобильный\", -0.164*\"зарплатный\", 0.148*\"ситибанк\", -0.136*\"отп\", -0.133*\"мама\", 0.129*\"петербург\", -0.124*\"пополнение\", 0.122*\"санкт\", 0.119*\"сообщение\"',\n",
       " '-0.189*\"сумма\", 0.166*\"система\", -0.163*\"мама\", -0.162*\"пароль\", -0.158*\"апрель\", -0.155*\"ноябрь\", 0.146*\"мобильный\", 0.142*\"магазин\", -0.129*\"программа\", 0.124*\"сб\"',\n",
       " '-0.181*\"август\", 0.175*\"лицо\", 0.139*\"сообщение\", -0.135*\"почему\", 0.130*\"окно\", 0.124*\"сотрудница\", -0.124*\"открытие\", 0.121*\"девушка\", -0.119*\"июль\", -0.116*\"человек\"',\n",
       " '0.261*\"система\", -0.184*\"ошибка\", -0.162*\"сообщение\", 0.156*\"октябрь\", 0.149*\"внести\", -0.140*\"го\", -0.135*\"данный\", 0.129*\"неделя\", 0.125*\"ноябрь\", -0.121*\"обслуживание\"',\n",
       " '0.197*\"муж\", 0.173*\"сб\", 0.167*\"зарплатный\", 0.162*\"система\", 0.145*\"сумма\", 0.133*\"сообщение\", 0.129*\"мама\", 0.127*\"ткс\", -0.124*\"пополнение\", -0.123*\"реструктуризация\"',\n",
       " '-0.275*\"киви\", 0.172*\"лицо\", -0.165*\"доллар\", 0.149*\"кошелёк\", 0.147*\"сотрудница\", -0.145*\"обслуживание\", -0.134*\"мобильный\", -0.131*\"москва\", 0.123*\"штраф\", 0.120*\"анкета\"',\n",
       " '-0.274*\"сотрудница\", -0.179*\"киви\", 0.151*\"кошелёк\", 0.141*\"программа\", 0.130*\"активировать\", -0.123*\"платить\", 0.116*\"условие\", -0.114*\"письмо\", -0.114*\"росбанк\", 0.110*\"сбер\"',\n",
       " '0.262*\"сообщение\", -0.212*\"сентябрь\", -0.183*\"оплата\", -0.144*\"май\", 0.142*\"сообщить\", 0.139*\"новый\", -0.128*\"росбанк\", -0.122*\"просрочка\", 0.122*\"киви\", -0.121*\"исполнительный\"',\n",
       " '0.177*\"жена\", -0.160*\"просрочка\", -0.140*\"подарок\", -0.133*\"ситибанк\", 0.130*\"информация\", 0.121*\"перевыпуск\", -0.120*\"оформить\", -0.117*\"новый\", 0.116*\"бки\", 0.115*\"запрос\"',\n",
       " '0.212*\"реструктуризация\", 0.180*\"жалоба\", 0.177*\"тысяча\", -0.172*\"просрочка\", 0.119*\"открытие\", -0.114*\"списать\", -0.114*\"оплатить\", -0.112*\"месяц\", 0.112*\"добрый\", 0.112*\"москва\"',\n",
       " '0.218*\"контактный\", -0.174*\"сбер\", -0.168*\"закрытие\", -0.154*\"подарок\", 0.150*\"человек\", 0.144*\"связаться\", -0.143*\"одобрить\", 0.137*\"я\", -0.133*\"тысяча\", 0.130*\"снова\"',\n",
       " '0.317*\"январь\", -0.273*\"февраль\", 0.181*\"ноябрь\", -0.165*\"декабрь\", -0.153*\"восточный\", -0.134*\"экспресс\", -0.133*\"октябрь\", 0.130*\"жена\", 0.121*\"хоум\", 0.120*\"сотрудник\"',\n",
       " '0.171*\"связаться\", -0.166*\"либо\", 0.165*\"я\", -0.160*\"оформить\", 0.156*\"подарок\", -0.143*\"восточный\", 0.128*\"сделка\", 0.128*\"программа\", -0.127*\"экспресс\", -0.121*\"ипотека\"',\n",
       " '0.210*\"подарок\", -0.179*\"акция\", -0.173*\"дебетовый\", 0.147*\"списание\", -0.146*\"росбанк\", 0.130*\"поступить\", 0.125*\"внести\", 0.122*\"тысяча\", -0.120*\"условие\", 0.114*\"отказ\"',\n",
       " '0.212*\"оплата\", -0.157*\"оплатить\", -0.157*\"ребёнок\", -0.156*\"валюта\", 0.143*\"иб\", 0.134*\"ноябрь\", 0.132*\"платить\", 0.122*\"человек\", 0.117*\"москва\", 0.115*\"вкладчик\"',\n",
       " '0.212*\"оплата\", -0.157*\"оплатить\", -0.157*\"ребёнок\", -0.156*\"валюта\", 0.143*\"иб\", 0.134*\"ноябрь\", 0.132*\"платить\", 0.122*\"человек\", 0.117*\"москва\", 0.115*\"вкладчик\"',\n",
       " '0.263*\"октябрь\", -0.237*\"росбанк\", 0.188*\"идентификация\", -0.171*\"ноябрь\", 0.161*\"являться\", -0.142*\"оао\", -0.136*\"либо\", 0.123*\"списание\", 0.115*\"тысяча\", -0.113*\"кошелёк\"',\n",
       " '0.226*\"валюта\", -0.160*\"октябрь\", 0.147*\"сентябрь\", 0.143*\"москва\", -0.137*\"январь\", -0.134*\"доллар\", -0.129*\"программа\", 0.125*\"одобрить\", -0.120*\"петербург\", -0.115*\"санкт\"',\n",
       " '0.174*\"восточный\", -0.153*\"перезвонить\", -0.148*\"организация\", 0.147*\"экспресс\", 0.135*\"названивать\", -0.129*\"сентябрь\", 0.126*\"возврат\", 0.121*\"закрыть\", -0.120*\"платить\", 0.114*\"коллектор\"',\n",
       " '0.198*\"агентство\", 0.184*\"коллекторский\", -0.178*\"идентификация\", 0.174*\"коллектор\", -0.172*\"суд\", -0.144*\"восточный\", 0.138*\"принять\", -0.130*\"поступить\", -0.129*\"москва\", -0.128*\"экспресс\"',\n",
       " '0.198*\"агентство\", 0.184*\"коллекторский\", -0.178*\"идентификация\", 0.174*\"коллектор\", -0.172*\"суд\", -0.144*\"восточный\", 0.138*\"принять\", -0.130*\"поступить\", -0.129*\"москва\", -0.128*\"экспресс\"',\n",
       " '-0.178*\"восточный\", 0.177*\"идентификация\", -0.154*\"экспресс\", -0.151*\"валюта\", -0.137*\"оао\", -0.135*\"кошелёк\", -0.124*\"добрый\", 0.121*\"здравствуйте\", -0.114*\"тариф\", 0.113*\"открытие\"',\n",
       " '-0.163*\"контактный\", 0.156*\"обратиться\", 0.148*\"сентябрь\", -0.138*\"перевыпуск\", 0.134*\"вкладчик\", 0.128*\"ребёнок\", 0.127*\"дата\", 0.124*\"авангард\", 0.115*\"организация\", 0.115*\"выплата\"',\n",
       " '0.187*\"удалить\", 0.168*\"база\", -0.135*\"отдел\", 0.134*\"росбанк\", -0.129*\"сообщить\", 0.127*\"подарок\", 0.121*\"валюта\", 0.119*\"вс\", -0.110*\"м\", -0.110*\"домашний\"',\n",
       " '0.218*\"ребёнок\", -0.159*\"прекратить\", -0.155*\"иб\", -0.152*\"рф\", -0.151*\"москва\", -0.141*\"тинькофф\", 0.125*\"почему\", -0.124*\"либо\", -0.117*\"вернуть\", 0.113*\"база\"']"
      ]
     },
     "execution_count": 87,
     "metadata": {},
     "output_type": "execute_result"
    }
   ],
   "source": [
    "# Получим список всех банков\n",
    "all_banks = list(df['bank_name'].value_counts().index)\n",
    "all_banks = [bank.lower() for bank in all_banks]\n",
    "\n",
    "# Будем производить поиск в списке тем модели lsi_200\n",
    "banks_topics = []\n",
    "for topic in lsi_200.show_topics():\n",
    "    for bank in all_banks:\n",
    "        if bank in topic[1]:\n",
    "            banks_topics.append(topic[1].replace(' + ', ', '))\n",
    "\n",
    "print(f'Найдено {len(banks_topics)} тем')\n",
    "print()\n",
    "banks_topics"
   ]
  },
  {
   "cell_type": "markdown",
   "id": "403424b8-3f06-49d4-9cef-ce1ce1029729",
   "metadata": {},
   "source": [
    "**Часть 3. Классификация текстов**"
   ]
  },
  {
   "cell_type": "markdown",
   "id": "2d8c975f-abff-4ade-b13d-f5b2bdd78a8e",
   "metadata": {},
   "source": [
    "*3.1. Выборки для модели*"
   ]
  },
  {
   "cell_type": "code",
   "execution_count": 25,
   "id": "19640f37-7032-4563-9eaa-6e433627184c",
   "metadata": {},
   "outputs": [
    {
     "data": {
      "text/plain": [
       "(62100, 2)"
      ]
     },
     "metadata": {},
     "output_type": "display_data"
    },
    {
     "data": {
      "text/html": [
       "<div>\n",
       "<style scoped>\n",
       "    .dataframe tbody tr th:only-of-type {\n",
       "        vertical-align: middle;\n",
       "    }\n",
       "\n",
       "    .dataframe tbody tr th {\n",
       "        vertical-align: top;\n",
       "    }\n",
       "\n",
       "    .dataframe thead th {\n",
       "        text-align: right;\n",
       "    }\n",
       "</style>\n",
       "<table border=\"1\" class=\"dataframe\">\n",
       "  <thead>\n",
       "    <tr style=\"text-align: right;\">\n",
       "      <th></th>\n",
       "      <th>rating_grade</th>\n",
       "      <th>text</th>\n",
       "    </tr>\n",
       "  </thead>\n",
       "  <tbody>\n",
       "    <tr>\n",
       "      <th>19</th>\n",
       "      <td>1.0</td>\n",
       "      <td>открыть вклад счёт плюс этот зарплатный карта ...</td>\n",
       "    </tr>\n",
       "    <tr>\n",
       "      <th>33</th>\n",
       "      <td>1.0</td>\n",
       "      <td>добрый время вчера поступить смс уведомление б...</td>\n",
       "    </tr>\n",
       "    <tr>\n",
       "      <th>76</th>\n",
       "      <td>1.0</td>\n",
       "      <td>г около час прийти указанный офис намерение по...</td>\n",
       "    </tr>\n",
       "    <tr>\n",
       "      <th>85</th>\n",
       "      <td>1.0</td>\n",
       "      <td>оплата коммунальный платёж пользоваться пласти...</td>\n",
       "    </tr>\n",
       "    <tr>\n",
       "      <th>94</th>\n",
       "      <td>1.0</td>\n",
       "      <td>апрель год прийти отделение сбербанк г чапаевс...</td>\n",
       "    </tr>\n",
       "  </tbody>\n",
       "</table>\n",
       "</div>"
      ],
      "text/plain": [
       "    rating_grade                                               text\n",
       "19           1.0  открыть вклад счёт плюс этот зарплатный карта ...\n",
       "33           1.0  добрый время вчера поступить смс уведомление б...\n",
       "76           1.0  г около час прийти указанный офис намерение по...\n",
       "85           1.0  оплата коммунальный платёж пользоваться пласти...\n",
       "94           1.0  апрель год прийти отделение сбербанк г чапаевс..."
      ]
     },
     "execution_count": 25,
     "metadata": {},
     "output_type": "execute_result"
    }
   ],
   "source": [
    "# Данные для модели\n",
    "df_rate = df[(df['rating_grade']).isin([1, 5])][['rating_grade', 'text']]\n",
    "display(df_rate.shape)\n",
    "df_rate.head()"
   ]
  },
  {
   "cell_type": "code",
   "execution_count": 26,
   "id": "d16e1bff-8a9c-4a70-a6fc-aeb60b7759cd",
   "metadata": {},
   "outputs": [],
   "source": [
    "# Обучающая и тестовая выбоки\n",
    "from sklearn.model_selection import train_test_split\n",
    "\n",
    "y = df_rate['rating_grade']\n",
    "X = df_rate['text']\n",
    "X_train, X_test, y_train, y_test = train_test_split(X, y, test_size = 0.2, random_state = 42)"
   ]
  },
  {
   "cell_type": "markdown",
   "id": "889f72cd-a36a-48b7-a04f-6dae1ef0ca84",
   "metadata": {},
   "source": [
    "*3.2. Векторизация и обучение модели*"
   ]
  },
  {
   "cell_type": "code",
   "execution_count": 27,
   "id": "9c5f8a0a-92bb-4a1d-bba2-99e39824b792",
   "metadata": {},
   "outputs": [],
   "source": [
    "# Векторизация через CountVectorizer. Униграммы, би-, три-граммы\n",
    "from sklearn.feature_extraction.text import CountVectorizer\n",
    "\n",
    "vec1 = CountVectorizer(ngram_range = (1, 1))\n",
    "vec2 = CountVectorizer(ngram_range = (2, 2))\n",
    "vec3 = CountVectorizer(ngram_range = (3, 3))\n",
    "\n",
    "bow1 = vec1.fit_transform(X_train)\n",
    "bow2 = vec2.fit_transform(X_train)\n",
    "bow3 = vec3.fit_transform(X_train)"
   ]
  },
  {
   "cell_type": "code",
   "execution_count": 28,
   "id": "155f3998-64e7-44b4-a6b0-1ebeec51fd98",
   "metadata": {},
   "outputs": [
    {
     "name": "stderr",
     "output_type": "stream",
     "text": [
      "D:\\Anaconda\\Lib\\site-packages\\sklearn\\linear_model\\_logistic.py:460: ConvergenceWarning: lbfgs failed to converge (status=1):\n",
      "STOP: TOTAL NO. of ITERATIONS REACHED LIMIT.\n",
      "\n",
      "Increase the number of iterations (max_iter) or scale the data as shown in:\n",
      "    https://scikit-learn.org/stable/modules/preprocessing.html\n",
      "Please also refer to the documentation for alternative solver options:\n",
      "    https://scikit-learn.org/stable/modules/linear_model.html#logistic-regression\n",
      "  n_iter_i = _check_optimize_result(\n"
     ]
    },
    {
     "name": "stdout",
     "output_type": "stream",
     "text": [
      "Модель на униграммах: Ассuracy: 0.9732, F1-score: 0.9732\n",
      "Модель на биграммах: Ассuracy: 0.9679, F1-score: 0.9679\n",
      "Модель на триграммах: Ассuracy: 0.9077, F1-score: 0.9077\n"
     ]
    }
   ],
   "source": [
    "# Создание модели логистической регрессии. Расчет accuracy и F-measure\n",
    "from sklearn.linear_model import LogisticRegression\n",
    "from sklearn.metrics import accuracy_score, f1_score\n",
    "\n",
    "def metics(vec, bow):\n",
    "    clf = LogisticRegression(random_state = 42)\n",
    "    clf.fit(bow, y_train)\n",
    "    y_pred = clf.predict(vec.transform(X_test))\n",
    "    return f'Ассuracy: {f1_score(y_test, y_pred):.4f}, F1-score: {f1_score(y_test, y_pred):.4f}'\n",
    "\n",
    "print('Модель на униграммах:', metics(vec1, bow1))\n",
    "print('Модель на биграммах:', metics(vec2, bow2))\n",
    "print('Модель на триграммах:', metics(vec3, bow3))"
   ]
  },
  {
   "cell_type": "markdown",
   "id": "014e39b2-d513-46d2-94aa-a612b6475bc1",
   "metadata": {},
   "source": [
    "**Вывод**. Модель лучше работает на биграммах"
   ]
  },
  {
   "cell_type": "code",
   "execution_count": 29,
   "id": "1ad97b09-d389-45d4-9e00-5327bfdade82",
   "metadata": {},
   "outputs": [
    {
     "name": "stderr",
     "output_type": "stream",
     "text": [
      "D:\\Anaconda\\Lib\\site-packages\\sklearn\\linear_model\\_logistic.py:460: ConvergenceWarning: lbfgs failed to converge (status=1):\n",
      "STOP: TOTAL NO. of ITERATIONS REACHED LIMIT.\n",
      "\n",
      "Increase the number of iterations (max_iter) or scale the data as shown in:\n",
      "    https://scikit-learn.org/stable/modules/preprocessing.html\n",
      "Please also refer to the documentation for alternative solver options:\n",
      "    https://scikit-learn.org/stable/modules/linear_model.html#logistic-regression\n",
      "  n_iter_i = _check_optimize_result(\n"
     ]
    },
    {
     "name": "stdout",
     "output_type": "stream",
     "text": [
      "Модель на униграммах c TF-IDF-векторизацией: Ассuracy: 0.9761, F1-score: 0.9761\n",
      "Модель на биграммах c TF-IDF-векторизацией: Ассuracy: 0.9442, F1-score: 0.9442\n",
      "Модель на триграммах c TF-IDF-векторизацией: Ассuracy: 0.8755, F1-score: 0.8755\n"
     ]
    }
   ],
   "source": [
    "# TF-IDF-векторизация\n",
    "from sklearn.feature_extraction.text import TfidfVectorizer\n",
    "\n",
    "vec_tfidf1 = TfidfVectorizer(ngram_range = (1, 1))\n",
    "vec_tfidf2 = TfidfVectorizer(ngram_range = (2, 2))\n",
    "vec_tfidf3 = TfidfVectorizer(ngram_range = (3, 3))\n",
    "\n",
    "bow_tfidf1 = vec_tfidf1.fit_transform(X_train)\n",
    "bow_tfidf2 = vec_tfidf2.fit_transform(X_train)\n",
    "bow_tfidf3 = vec_tfidf3.fit_transform(X_train)\n",
    "\n",
    "print('Модель на униграммах c TF-IDF-векторизацией:', metics(vec_tfidf1, bow_tfidf1))\n",
    "print('Модель на биграммах c TF-IDF-векторизацией:', metics(vec_tfidf2, bow_tfidf2))\n",
    "print('Модель на триграммах c TF-IDF-векторизацией:', metics(vec_tfidf3, bow_tfidf3))"
   ]
  },
  {
   "cell_type": "markdown",
   "id": "dbc1d235-6c87-49ed-b626-0494cb9acc53",
   "metadata": {},
   "source": [
    "**Вывод**. TF-IDF-векторизация не привела к улучшению качества модели"
   ]
  },
  {
   "cell_type": "code",
   "execution_count": 30,
   "id": "58556401-27d9-4f5e-9931-146b07b5dd95",
   "metadata": {},
   "outputs": [
    {
     "name": "stdout",
     "output_type": "stream",
     "text": [
      "Размерность равна 20. Метрики. Ассuracy: 0.8727, F1-score: 0.8727\n",
      "\n",
      "Размерность равна 50. Метрики. Ассuracy: 0.8889, F1-score: 0.8889\n",
      "\n",
      "Размерность равна 100. Метрики. Ассuracy: 0.9115, F1-score: 0.9115\n",
      "\n",
      "CPU times: total: 4min 39s\n",
      "Wall time: 2min 24s\n"
     ]
    }
   ],
   "source": [
    "%%time\n",
    "# Truncated SVD преобразование для разных размеров векторного пространства. \n",
    "# В качестве исходной матрицы для трансформации будем использовать полученную через CountVectorizer для биграмм, \n",
    "# т.к. модель на этих данных имела наилучшее качество\n",
    "\n",
    "from sklearn.linear_model import LogisticRegression\n",
    "from sklearn.metrics import accuracy_score, f1_score\n",
    "from sklearn.decomposition import TruncatedSVD\n",
    "\n",
    "n_space = [20, 50, 100]\n",
    "\n",
    "def tsvd_metics(n):\n",
    "    vec_tsvd = TruncatedSVD(n_components = n, random_state = 42)\n",
    "    X_train_reduced = vec_tsvd.fit_transform(bow2)\n",
    "    X_test_reduced = vec_tsvd.transform(vec2.transform(X_test))\n",
    "    \n",
    "    clf = LogisticRegression(random_state = 42)\n",
    "    clf.fit(X_train_reduced, y_train)\n",
    "    y_pred = clf.predict(X_test_reduced)\n",
    "    return f'Ассuracy: {f1_score(y_test, y_pred):.4f}, F1-score: {f1_score(y_test, y_pred):.4f}'\n",
    "\n",
    "for n in n_space:\n",
    "    print(f'Размерность равна {n}. Метрики. {tsvd_metics(n)}')\n",
    "    print()"
   ]
  },
  {
   "cell_type": "markdown",
   "id": "dfe27aaa-a281-4c1b-9951-d85b11eb3158",
   "metadata": {},
   "source": [
    "**Вывод**. Снижение размерности через t-SVD не привело к улучшению метрик."
   ]
  },
  {
   "cell_type": "code",
   "execution_count": 38,
   "id": "c146bf78-f97b-4a58-aa29-4d2ae0dd7054",
   "metadata": {},
   "outputs": [],
   "source": [
    "# Модели с LDA. Векторизация\n",
    "from sklearn.decomposition import LatentDirichletAllocation\n",
    "\n",
    "lda = LatentDirichletAllocation(n_components = 5)\n",
    "X_train_lda = lda.fit_transform(bow2)\n",
    "X_test_lda = lda.fit_transform(vec2.transform(X_test))"
   ]
  },
  {
   "cell_type": "code",
   "execution_count": 39,
   "id": "63812ffa-fdf7-4b10-9526-2db643dc4328",
   "metadata": {},
   "outputs": [
    {
     "name": "stdout",
     "output_type": "stream",
     "text": [
      "Ассuracy: 0.8653, F1-score: 0.8653\n"
     ]
    }
   ],
   "source": [
    "# Модели с LDA. Обучение и метрики\n",
    "clf = LogisticRegression(random_state = 42)\n",
    "clf.fit(X_train_lda, y_train)\n",
    "y_pred = clf.predict(X_test_lda)\n",
    "print(f'Ассuracy: {f1_score(y_test, y_pred):.4f}, F1-score: {f1_score(y_test, y_pred):.4f}')"
   ]
  },
  {
   "cell_type": "markdown",
   "id": "b65bb696-7456-4482-b2d4-ef4a7266299a",
   "metadata": {},
   "source": [
    "**Вывод**. Использование модели LDA для снижения размерности не привело к улучшению метрик."
   ]
  }
 ],
 "metadata": {
  "kernelspec": {
   "display_name": "Python [conda env:base] *",
   "language": "python",
   "name": "conda-base-py"
  },
  "language_info": {
   "codemirror_mode": {
    "name": "ipython",
    "version": 3
   },
   "file_extension": ".py",
   "mimetype": "text/x-python",
   "name": "python",
   "nbconvert_exporter": "python",
   "pygments_lexer": "ipython3",
   "version": "3.11.5"
  }
 },
 "nbformat": 4,
 "nbformat_minor": 5
}
