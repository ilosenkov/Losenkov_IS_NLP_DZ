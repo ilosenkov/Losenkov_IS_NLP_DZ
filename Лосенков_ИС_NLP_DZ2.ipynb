{
 "cells": [
  {
   "cell_type": "markdown",
   "id": "734b1b31-b07c-4325-89c6-7a1dd9edc6cb",
   "metadata": {
    "jp-MarkdownHeadingCollapsed": true
   },
   "source": [
    "### 1. Загрузка данных"
   ]
  },
  {
   "cell_type": "code",
   "execution_count": 22,
   "id": "46bdd99f-daa8-4d2e-904d-4c266ab0bd50",
   "metadata": {},
   "outputs": [],
   "source": [
    "import pandas as pd\n",
    "import numpy as np\n",
    "from tqdm.notebook import tqdm"
   ]
  },
  {
   "cell_type": "code",
   "execution_count": 23,
   "id": "d2f45c53-dcad-41c0-95f4-201fea294907",
   "metadata": {},
   "outputs": [
    {
     "name": "stdout",
     "output_type": "stream",
     "text": [
      "(6420, 3)\n"
     ]
    },
    {
     "data": {
      "text/html": [
       "<div>\n",
       "<style scoped>\n",
       "    .dataframe tbody tr th:only-of-type {\n",
       "        vertical-align: middle;\n",
       "    }\n",
       "\n",
       "    .dataframe tbody tr th {\n",
       "        vertical-align: top;\n",
       "    }\n",
       "\n",
       "    .dataframe thead th {\n",
       "        text-align: right;\n",
       "    }\n",
       "</style>\n",
       "<table border=\"1\" class=\"dataframe\">\n",
       "  <thead>\n",
       "    <tr style=\"text-align: right;\">\n",
       "      <th></th>\n",
       "      <th>id</th>\n",
       "      <th>tweet</th>\n",
       "      <th>label</th>\n",
       "    </tr>\n",
       "  </thead>\n",
       "  <tbody>\n",
       "    <tr>\n",
       "      <th>0</th>\n",
       "      <td>1</td>\n",
       "      <td>The CDC currently reports 99031 deaths. In gen...</td>\n",
       "      <td>real</td>\n",
       "    </tr>\n",
       "    <tr>\n",
       "      <th>1</th>\n",
       "      <td>2</td>\n",
       "      <td>States reported 1121 deaths a small rise from ...</td>\n",
       "      <td>real</td>\n",
       "    </tr>\n",
       "    <tr>\n",
       "      <th>2</th>\n",
       "      <td>3</td>\n",
       "      <td>Politically Correct Woman (Almost) Uses Pandem...</td>\n",
       "      <td>fake</td>\n",
       "    </tr>\n",
       "    <tr>\n",
       "      <th>3</th>\n",
       "      <td>4</td>\n",
       "      <td>#IndiaFightsCorona: We have 1524 #COVID testin...</td>\n",
       "      <td>real</td>\n",
       "    </tr>\n",
       "    <tr>\n",
       "      <th>4</th>\n",
       "      <td>5</td>\n",
       "      <td>Populous states can generate large case counts...</td>\n",
       "      <td>real</td>\n",
       "    </tr>\n",
       "  </tbody>\n",
       "</table>\n",
       "</div>"
      ],
      "text/plain": [
       "   id                                              tweet label\n",
       "0   1  The CDC currently reports 99031 deaths. In gen...  real\n",
       "1   2  States reported 1121 deaths a small rise from ...  real\n",
       "2   3  Politically Correct Woman (Almost) Uses Pandem...  fake\n",
       "3   4  #IndiaFightsCorona: We have 1524 #COVID testin...  real\n",
       "4   5  Populous states can generate large case counts...  real"
      ]
     },
     "execution_count": 23,
     "metadata": {},
     "output_type": "execute_result"
    }
   ],
   "source": [
    "df = pd.read_csv(r\"D:\\НЕТОЛОГИЯ\\NLP\\файлы\\Constraint_Train.csv\")\n",
    "print(df.shape)\n",
    "df.head()"
   ]
  },
  {
   "cell_type": "markdown",
   "id": "182a440a-1941-49bc-b7e2-5a4ff9f8f67c",
   "metadata": {
    "jp-MarkdownHeadingCollapsed": true
   },
   "source": [
    "### 2. Предобработка текста"
   ]
  },
  {
   "cell_type": "code",
   "execution_count": 25,
   "id": "00c69e88-53fc-4546-9cb4-56bb9137b4bd",
   "metadata": {},
   "outputs": [],
   "source": [
    "# Приведение к нижнему регистру. Оставлем только буквы\n",
    "import re\n",
    "\n",
    "en_words = re.compile('[a-zA-z]+')\n",
    "df['tweet'] = df['tweet'].apply(lambda x: ' '.join(en_words.findall(x.lower())))"
   ]
  },
  {
   "cell_type": "code",
   "execution_count": 26,
   "id": "a2f698b1-f11e-405a-b69b-e6af15671300",
   "metadata": {},
   "outputs": [
    {
     "data": {
      "application/vnd.jupyter.widget-view+json": {
       "model_id": "7d086be6ea184a1faadaf56639099575",
       "version_major": 2,
       "version_minor": 0
      },
      "text/plain": [
       "  0%|          | 0/6420 [00:00<?, ?it/s]"
      ]
     },
     "metadata": {},
     "output_type": "display_data"
    }
   ],
   "source": [
    "#Удаления стоп-слов, токенизация.\n",
    "from nltk.tokenize import word_tokenize\n",
    "from string import punctuation\n",
    "from nltk.corpus import stopwords\n",
    "from collections import Counter\n",
    "\n",
    "stop_words = stopwords.words('english')\n",
    "stopwords_dict = Counter(stop_words)\n",
    "\n",
    "def pre_process(array):\n",
    "    new_array = []\n",
    "    for text in tqdm(array):\n",
    "        text_update = ' '.join([word for word in word_tokenize(text) if word not in stopwords_dict])\n",
    "        new_array.append(text_update)\n",
    "    return new_array\n",
    "\n",
    "df['tweet'] = pre_process(df['tweet'])"
   ]
  },
  {
   "cell_type": "markdown",
   "id": "e85e4465-74a3-4b3e-96be-881e075b3222",
   "metadata": {
    "jp-MarkdownHeadingCollapsed": true
   },
   "source": [
    "## 3. Векторизация текста"
   ]
  },
  {
   "cell_type": "code",
   "execution_count": 28,
   "id": "e5f4be10-4b32-48c6-9823-fb3b6a5de67a",
   "metadata": {},
   "outputs": [],
   "source": [
    "# Обучающая и тестовая выбоки\n",
    "from sklearn.model_selection import train_test_split\n",
    "\n",
    "y = df['label']\n",
    "x = df['tweet']\n",
    "x_train, x_test, y_train, y_test = train_test_split(x, y, test_size = 0.2, random_state = 42)"
   ]
  },
  {
   "cell_type": "code",
   "execution_count": 29,
   "id": "7cad27bd-fb72-44c1-80db-be5dcf03b469",
   "metadata": {},
   "outputs": [],
   "source": [
    "# Count Vectorizer\n",
    "from sklearn.feature_extraction.text import CountVectorizer\n",
    "\n",
    "vec = CountVectorizer(ngram_range = (1, 1))\n",
    "x_train_count = vec.fit_transform(x_train)\n",
    "x_test_count = vec.transform(x_test)"
   ]
  },
  {
   "cell_type": "markdown",
   "id": "bc7327e4-d41f-4a4c-a3d4-7b278c557fca",
   "metadata": {
    "jp-MarkdownHeadingCollapsed": true
   },
   "source": [
    "## 4. Библиотека sklearn"
   ]
  },
  {
   "cell_type": "markdown",
   "id": "5c39dfe3-6f49-4652-9d0d-99ff95ecd23c",
   "metadata": {},
   "source": [
    "*4.1. Логистическая регрессия*"
   ]
  },
  {
   "cell_type": "code",
   "execution_count": 32,
   "id": "2dea2ea5-de29-4158-b6ef-d02399f7aa7c",
   "metadata": {},
   "outputs": [
    {
     "name": "stdout",
     "output_type": "stream",
     "text": [
      "Логистическая регрессия. F1-score: 0.9123\n"
     ]
    }
   ],
   "source": [
    "from sklearn.linear_model import LogisticRegression\n",
    "from sklearn.metrics import f1_score\n",
    "import warnings\n",
    "warnings.filterwarnings('ignore')\n",
    "\n",
    "lr_model = LogisticRegression(random_state = 42)\n",
    "lr_model.fit(x_train_count, y_train)\n",
    "lr_pred = lr_model.predict(x_test_count)\n",
    "f1_lr = f1_score(y_test, lr_pred, average ='binary', pos_label = 'fake')\n",
    "print(f'Логистическая регрессия. F1-score: {f1_lr:.4f}')"
   ]
  },
  {
   "cell_type": "markdown",
   "id": "e31980c9-bb73-4098-a625-ad4b0a7955dd",
   "metadata": {},
   "source": [
    "*4.2. Случайный лес*"
   ]
  },
  {
   "cell_type": "code",
   "execution_count": 34,
   "id": "dc3a85c1-a5ee-4fa9-94e2-ade4b8e0e5a6",
   "metadata": {},
   "outputs": [
    {
     "name": "stdout",
     "output_type": "stream",
     "text": [
      "Случайный лес. F1-score: 0.9130\n"
     ]
    }
   ],
   "source": [
    "from sklearn.ensemble import RandomForestClassifier\n",
    "\n",
    "rf_model = RandomForestClassifier(random_state = 42)\n",
    "rf_model.fit(x_train_count, y_train)\n",
    "rf_pred = rf_model.predict(x_test_count)\n",
    "f1_rf = f1_score(y_test, rf_pred, average ='binary', pos_label = 'fake')\n",
    "print(f'Случайный лес. F1-score: {f1_rf:.4f}')"
   ]
  },
  {
   "cell_type": "markdown",
   "id": "1c36f6b8-2c3b-4967-9c57-9a2e236e44af",
   "metadata": {},
   "source": [
    "*4.3. Бэггинг*"
   ]
  },
  {
   "cell_type": "code",
   "execution_count": 36,
   "id": "5ba3e7e0-00c4-4fae-88ff-3b49f338d526",
   "metadata": {},
   "outputs": [
    {
     "name": "stdout",
     "output_type": "stream",
     "text": [
      "Бэггинг. F1-score: 0.9106\n"
     ]
    }
   ],
   "source": [
    "from sklearn.ensemble import BaggingClassifier\n",
    "\n",
    "bagging = BaggingClassifier(LogisticRegression(random_state = 42), \n",
    "                            n_estimators = 20,\n",
    "                           max_samples = 0.8,\n",
    "                           max_features = 0.7,\n",
    "                           random_state = 42)\n",
    "\n",
    "bagging.fit(x_train_count, y_train)\n",
    "bag_pred = bagging.predict(x_test_count)\n",
    "f1_bagging = f1_score(y_test, bag_pred, average ='binary', pos_label = 'fake')\n",
    "print(f'Бэггинг. F1-score: {f1_bagging:.4f}')"
   ]
  },
  {
   "cell_type": "markdown",
   "id": "058f19e1-307b-4199-b967-b14874937566",
   "metadata": {},
   "source": [
    "*4.4. Градиентный бустинг*"
   ]
  },
  {
   "cell_type": "code",
   "execution_count": 38,
   "id": "ec2a29fa-025c-425b-af2d-b21517ab3da2",
   "metadata": {},
   "outputs": [
    {
     "name": "stdout",
     "output_type": "stream",
     "text": [
      "Градиентный бустинг. F1-score: 0.9159\n"
     ]
    }
   ],
   "source": [
    "from sklearn.ensemble import GradientBoostingClassifier\n",
    "\n",
    "gb_model = GradientBoostingClassifier(n_estimators = 800, max_depth = 8)\n",
    "gb_model.fit(x_train_count, y_train)\n",
    "gb_pred = gb_model.predict(x_test_count)\n",
    "f1_rf = f1_score(y_test, gb_pred, average ='binary', pos_label = 'fake')\n",
    "print(f'Градиентный бустинг. F1-score: {f1_rf:.4f}')"
   ]
  },
  {
   "cell_type": "markdown",
   "id": "a6f9540f-88da-4e77-b4bd-ff4c3aac7f36",
   "metadata": {
    "jp-MarkdownHeadingCollapsed": true
   },
   "source": [
    "## 5. PyTorch"
   ]
  },
  {
   "cell_type": "markdown",
   "id": "bbd1530f-4ac3-4e45-b4e9-118899f398a3",
   "metadata": {},
   "source": [
    "*5.1. Подготовка данных*"
   ]
  },
  {
   "cell_type": "code",
   "execution_count": 41,
   "id": "c7429398-f792-4057-b093-18643388329f",
   "metadata": {},
   "outputs": [
    {
     "data": {
      "application/vnd.jupyter.widget-view+json": {
       "model_id": "59ca9e027ae040b5a2844b004ff2376a",
       "version_major": 2,
       "version_minor": 0
      },
      "text/plain": [
       "  0%|          | 0/6420 [00:00<?, ?it/s]"
      ]
     },
     "metadata": {},
     "output_type": "display_data"
    }
   ],
   "source": [
    "# Кодирование текстовых значений классов в числовые\n",
    "labels = (df['label'] == 'real').astype(int).to_list()\n",
    "\n",
    "# Токенизация текстов\n",
    "token_lists = [word_tokenize(text) for text in df['tweet']]\n",
    "sentences = [word_tokenize(text.lower()) for text in tqdm(df.tweet)]"
   ]
  },
  {
   "cell_type": "code",
   "execution_count": 42,
   "id": "b92b2dd4-07ee-4d61-9d8a-b89d4ead5362",
   "metadata": {},
   "outputs": [
    {
     "name": "stdout",
     "output_type": "stream",
     "text": [
      "Макс. размер: 871\n"
     ]
    }
   ],
   "source": [
    "# Оценка максимального размера текстов (по количеству слов)\n",
    "max_len = len(max(token_lists, key=len))\n",
    "print('Макс. размер:', max_len)"
   ]
  },
  {
   "cell_type": "code",
   "execution_count": 43,
   "id": "b802b8e8-1544-43b3-ab13-4d4a6c4dbd1f",
   "metadata": {
    "scrolled": true
   },
   "outputs": [
    {
     "name": "stdout",
     "output_type": "stream",
     "text": [
      "Медиана кол-ва слов: 17.0\n",
      "\n",
      "Распределение текство по длине\n"
     ]
    },
    {
     "data": {
      "text/html": [
       "<div>\n",
       "<style scoped>\n",
       "    .dataframe tbody tr th:only-of-type {\n",
       "        vertical-align: middle;\n",
       "    }\n",
       "\n",
       "    .dataframe tbody tr th {\n",
       "        vertical-align: top;\n",
       "    }\n",
       "\n",
       "    .dataframe thead th {\n",
       "        text-align: right;\n",
       "    }\n",
       "</style>\n",
       "<table border=\"1\" class=\"dataframe\">\n",
       "  <thead>\n",
       "    <tr style=\"text-align: right;\">\n",
       "      <th></th>\n",
       "      <th>длина текста</th>\n",
       "      <th>частота в %</th>\n",
       "    </tr>\n",
       "  </thead>\n",
       "  <tbody>\n",
       "    <tr>\n",
       "      <th>52</th>\n",
       "      <td>1</td>\n",
       "      <td>0.02</td>\n",
       "    </tr>\n",
       "    <tr>\n",
       "      <th>40</th>\n",
       "      <td>2</td>\n",
       "      <td>0.05</td>\n",
       "    </tr>\n",
       "    <tr>\n",
       "      <th>34</th>\n",
       "      <td>3</td>\n",
       "      <td>0.31</td>\n",
       "    </tr>\n",
       "    <tr>\n",
       "      <th>29</th>\n",
       "      <td>4</td>\n",
       "      <td>1.09</td>\n",
       "    </tr>\n",
       "    <tr>\n",
       "      <th>26</th>\n",
       "      <td>5</td>\n",
       "      <td>1.73</td>\n",
       "    </tr>\n",
       "    <tr>\n",
       "      <th>22</th>\n",
       "      <td>6</td>\n",
       "      <td>2.63</td>\n",
       "    </tr>\n",
       "    <tr>\n",
       "      <th>19</th>\n",
       "      <td>7</td>\n",
       "      <td>2.99</td>\n",
       "    </tr>\n",
       "    <tr>\n",
       "      <th>10</th>\n",
       "      <td>8</td>\n",
       "      <td>3.41</td>\n",
       "    </tr>\n",
       "    <tr>\n",
       "      <th>5</th>\n",
       "      <td>9</td>\n",
       "      <td>4.02</td>\n",
       "    </tr>\n",
       "    <tr>\n",
       "      <th>8</th>\n",
       "      <td>10</td>\n",
       "      <td>3.85</td>\n",
       "    </tr>\n",
       "    <tr>\n",
       "      <th>6</th>\n",
       "      <td>11</td>\n",
       "      <td>4.00</td>\n",
       "    </tr>\n",
       "    <tr>\n",
       "      <th>3</th>\n",
       "      <td>12</td>\n",
       "      <td>4.47</td>\n",
       "    </tr>\n",
       "    <tr>\n",
       "      <th>2</th>\n",
       "      <td>13</td>\n",
       "      <td>4.66</td>\n",
       "    </tr>\n",
       "    <tr>\n",
       "      <th>0</th>\n",
       "      <td>14</td>\n",
       "      <td>5.55</td>\n",
       "    </tr>\n",
       "    <tr>\n",
       "      <th>1</th>\n",
       "      <td>15</td>\n",
       "      <td>4.70</td>\n",
       "    </tr>\n",
       "    <tr>\n",
       "      <th>4</th>\n",
       "      <td>16</td>\n",
       "      <td>4.13</td>\n",
       "    </tr>\n",
       "    <tr>\n",
       "      <th>9</th>\n",
       "      <td>17</td>\n",
       "      <td>3.44</td>\n",
       "    </tr>\n",
       "    <tr>\n",
       "      <th>7</th>\n",
       "      <td>18</td>\n",
       "      <td>3.89</td>\n",
       "    </tr>\n",
       "    <tr>\n",
       "      <th>14</th>\n",
       "      <td>19</td>\n",
       "      <td>3.26</td>\n",
       "    </tr>\n",
       "    <tr>\n",
       "      <th>15</th>\n",
       "      <td>20</td>\n",
       "      <td>3.21</td>\n",
       "    </tr>\n",
       "    <tr>\n",
       "      <th>18</th>\n",
       "      <td>21</td>\n",
       "      <td>3.08</td>\n",
       "    </tr>\n",
       "    <tr>\n",
       "      <th>20</th>\n",
       "      <td>22</td>\n",
       "      <td>2.91</td>\n",
       "    </tr>\n",
       "    <tr>\n",
       "      <th>13</th>\n",
       "      <td>23</td>\n",
       "      <td>3.33</td>\n",
       "    </tr>\n",
       "    <tr>\n",
       "      <th>16</th>\n",
       "      <td>24</td>\n",
       "      <td>3.21</td>\n",
       "    </tr>\n",
       "    <tr>\n",
       "      <th>11</th>\n",
       "      <td>25</td>\n",
       "      <td>3.36</td>\n",
       "    </tr>\n",
       "    <tr>\n",
       "      <th>12</th>\n",
       "      <td>26</td>\n",
       "      <td>3.35</td>\n",
       "    </tr>\n",
       "    <tr>\n",
       "      <th>17</th>\n",
       "      <td>27</td>\n",
       "      <td>3.16</td>\n",
       "    </tr>\n",
       "    <tr>\n",
       "      <th>25</th>\n",
       "      <td>28</td>\n",
       "      <td>2.49</td>\n",
       "    </tr>\n",
       "    <tr>\n",
       "      <th>23</th>\n",
       "      <td>29</td>\n",
       "      <td>2.51</td>\n",
       "    </tr>\n",
       "    <tr>\n",
       "      <th>21</th>\n",
       "      <td>30</td>\n",
       "      <td>2.73</td>\n",
       "    </tr>\n",
       "    <tr>\n",
       "      <th>24</th>\n",
       "      <td>31</td>\n",
       "      <td>2.51</td>\n",
       "    </tr>\n",
       "    <tr>\n",
       "      <th>27</th>\n",
       "      <td>32</td>\n",
       "      <td>1.62</td>\n",
       "    </tr>\n",
       "    <tr>\n",
       "      <th>28</th>\n",
       "      <td>33</td>\n",
       "      <td>1.34</td>\n",
       "    </tr>\n",
       "    <tr>\n",
       "      <th>30</th>\n",
       "      <td>34</td>\n",
       "      <td>1.07</td>\n",
       "    </tr>\n",
       "    <tr>\n",
       "      <th>31</th>\n",
       "      <td>35</td>\n",
       "      <td>0.56</td>\n",
       "    </tr>\n",
       "    <tr>\n",
       "      <th>32</th>\n",
       "      <td>36</td>\n",
       "      <td>0.39</td>\n",
       "    </tr>\n",
       "    <tr>\n",
       "      <th>33</th>\n",
       "      <td>37</td>\n",
       "      <td>0.31</td>\n",
       "    </tr>\n",
       "    <tr>\n",
       "      <th>35</th>\n",
       "      <td>38</td>\n",
       "      <td>0.16</td>\n",
       "    </tr>\n",
       "    <tr>\n",
       "      <th>37</th>\n",
       "      <td>39</td>\n",
       "      <td>0.05</td>\n",
       "    </tr>\n",
       "    <tr>\n",
       "      <th>38</th>\n",
       "      <td>40</td>\n",
       "      <td>0.05</td>\n",
       "    </tr>\n",
       "    <tr>\n",
       "      <th>41</th>\n",
       "      <td>41</td>\n",
       "      <td>0.05</td>\n",
       "    </tr>\n",
       "    <tr>\n",
       "      <th>44</th>\n",
       "      <td>42</td>\n",
       "      <td>0.03</td>\n",
       "    </tr>\n",
       "    <tr>\n",
       "      <th>48</th>\n",
       "      <td>43</td>\n",
       "      <td>0.02</td>\n",
       "    </tr>\n",
       "    <tr>\n",
       "      <th>45</th>\n",
       "      <td>44</td>\n",
       "      <td>0.02</td>\n",
       "    </tr>\n",
       "    <tr>\n",
       "      <th>39</th>\n",
       "      <td>45</td>\n",
       "      <td>0.05</td>\n",
       "    </tr>\n",
       "    <tr>\n",
       "      <th>49</th>\n",
       "      <td>46</td>\n",
       "      <td>0.02</td>\n",
       "    </tr>\n",
       "    <tr>\n",
       "      <th>42</th>\n",
       "      <td>47</td>\n",
       "      <td>0.03</td>\n",
       "    </tr>\n",
       "    <tr>\n",
       "      <th>50</th>\n",
       "      <td>48</td>\n",
       "      <td>0.02</td>\n",
       "    </tr>\n",
       "    <tr>\n",
       "      <th>36</th>\n",
       "      <td>49</td>\n",
       "      <td>0.06</td>\n",
       "    </tr>\n",
       "    <tr>\n",
       "      <th>43</th>\n",
       "      <td>53</td>\n",
       "      <td>0.03</td>\n",
       "    </tr>\n",
       "    <tr>\n",
       "      <th>53</th>\n",
       "      <td>63</td>\n",
       "      <td>0.02</td>\n",
       "    </tr>\n",
       "    <tr>\n",
       "      <th>46</th>\n",
       "      <td>75</td>\n",
       "      <td>0.02</td>\n",
       "    </tr>\n",
       "    <tr>\n",
       "      <th>54</th>\n",
       "      <td>78</td>\n",
       "      <td>0.02</td>\n",
       "    </tr>\n",
       "    <tr>\n",
       "      <th>55</th>\n",
       "      <td>209</td>\n",
       "      <td>0.02</td>\n",
       "    </tr>\n",
       "    <tr>\n",
       "      <th>47</th>\n",
       "      <td>477</td>\n",
       "      <td>0.02</td>\n",
       "    </tr>\n",
       "    <tr>\n",
       "      <th>51</th>\n",
       "      <td>871</td>\n",
       "      <td>0.02</td>\n",
       "    </tr>\n",
       "  </tbody>\n",
       "</table>\n",
       "</div>"
      ],
      "text/plain": [
       "    длина текста  частота в %\n",
       "52             1         0.02\n",
       "40             2         0.05\n",
       "34             3         0.31\n",
       "29             4         1.09\n",
       "26             5         1.73\n",
       "22             6         2.63\n",
       "19             7         2.99\n",
       "10             8         3.41\n",
       "5              9         4.02\n",
       "8             10         3.85\n",
       "6             11         4.00\n",
       "3             12         4.47\n",
       "2             13         4.66\n",
       "0             14         5.55\n",
       "1             15         4.70\n",
       "4             16         4.13\n",
       "9             17         3.44\n",
       "7             18         3.89\n",
       "14            19         3.26\n",
       "15            20         3.21\n",
       "18            21         3.08\n",
       "20            22         2.91\n",
       "13            23         3.33\n",
       "16            24         3.21\n",
       "11            25         3.36\n",
       "12            26         3.35\n",
       "17            27         3.16\n",
       "25            28         2.49\n",
       "23            29         2.51\n",
       "21            30         2.73\n",
       "24            31         2.51\n",
       "27            32         1.62\n",
       "28            33         1.34\n",
       "30            34         1.07\n",
       "31            35         0.56\n",
       "32            36         0.39\n",
       "33            37         0.31\n",
       "35            38         0.16\n",
       "37            39         0.05\n",
       "38            40         0.05\n",
       "41            41         0.05\n",
       "44            42         0.03\n",
       "48            43         0.02\n",
       "45            44         0.02\n",
       "39            45         0.05\n",
       "49            46         0.02\n",
       "42            47         0.03\n",
       "50            48         0.02\n",
       "36            49         0.06\n",
       "43            53         0.03\n",
       "53            63         0.02\n",
       "46            75         0.02\n",
       "54            78         0.02\n",
       "55           209         0.02\n",
       "47           477         0.02\n",
       "51           871         0.02"
      ]
     },
     "execution_count": 43,
     "metadata": {},
     "output_type": "execute_result"
    }
   ],
   "source": [
    "# Распредление текстов по длине\n",
    "df['len_words'] = [len(tokens) for tokens in token_lists]\n",
    "print('Медиана кол-ва слов:', df['len_words'].median())\n",
    "\n",
    "len_texts_distr = df['len_words'].value_counts(normalize = True).reset_index()\n",
    "len_texts_distr = len_texts_distr.sort_values('index').rename(columns = {'index': 'длина текста', 'len_words': 'частота в %'})\n",
    "len_texts_distr['частота в %'] = round(len_texts_distr['частота в %']*100, 2)\n",
    "\n",
    "print()\n",
    "print('Распределение текство по длине')\n",
    "len_texts_distr"
   ]
  },
  {
   "cell_type": "code",
   "execution_count": 44,
   "id": "323e18ed-8825-4393-9672-e5809b6ce95b",
   "metadata": {},
   "outputs": [
    {
     "data": {
      "application/vnd.jupyter.widget-view+json": {
       "model_id": "a82bb5c389e54339a8279c86dba63f9c",
       "version_major": 2,
       "version_minor": 0
      },
      "text/plain": [
       "  0%|          | 0/6420 [00:00<?, ?it/s]"
      ]
     },
     "metadata": {},
     "output_type": "display_data"
    }
   ],
   "source": [
    "# Получение эмбеддингов слов через Word2vec\n",
    "from gensim.models.word2vec import Word2Vec\n",
    "\n",
    "model_tweets = Word2Vec(token_lists, workers = 4, vector_size = 300, min_count = 3, window = 5)\n",
    "\n",
    "def get_word_embedding(tokens, max_len):\n",
    "    result = []\n",
    "    for i in range(max_len):\n",
    "        if i < len(tokens):\n",
    "            word = tokens[i]\n",
    "            if word in model_tweets.wv:\n",
    "                result.append(model_tweets.wv[word])\n",
    "            else:\n",
    "                result.append(np.zeros(300))\n",
    "        else:\n",
    "            result.append(np.zeros(300))\n",
    "    return result\n",
    "\n",
    "# Судя по распределению оптимальным розмером вектора слова будет 50\n",
    "features_w = [get_word_embedding(text, 50) for text in tqdm(token_lists)]"
   ]
  },
  {
   "cell_type": "code",
   "execution_count": 48,
   "id": "0e0a2f92-43b3-41b0-aa71-d9cace7435ed",
   "metadata": {},
   "outputs": [
    {
     "data": {
      "application/vnd.jupyter.widget-view+json": {
       "model_id": "c8a38090325741448d8bb5ebe11ecc98",
       "version_major": 2,
       "version_minor": 0
      },
      "text/plain": [
       "  0%|          | 0/6420 [00:00<?, ?it/s]"
      ]
     },
     "metadata": {},
     "output_type": "display_data"
    }
   ],
   "source": [
    "# Получение эмбеддингов текстов через Word2vec\n",
    "def get_text_embedding(text):\n",
    "    result = []\n",
    "    for word in word_tokenize(text):\n",
    "        if word in model_tweets.wv:\n",
    "            result.append(model_tweets.wv[word])\n",
    "\n",
    "    if len(result):\n",
    "        result = np.average(result, axis=0)\n",
    "    else:\n",
    "        result = np.zeros(300)\n",
    "    return result\n",
    "\n",
    "features_t = [get_text_embedding(text) for text in tqdm(df['tweet'])]"
   ]
  },
  {
   "cell_type": "markdown",
   "id": "f21e9b7e-e138-44cf-9b7b-a7fafe2140e5",
   "metadata": {},
   "source": [
    "*5.2. Создание нейросети. Однослойная LSTM*"
   ]
  },
  {
   "cell_type": "code",
   "execution_count": 50,
   "id": "95f43bbe-2365-46c3-8228-01d852af0b93",
   "metadata": {},
   "outputs": [
    {
     "name": "stdout",
     "output_type": "stream",
     "text": [
      "lstm1(\n",
      "  (lstm): LSTM(300, 100)\n",
      "  (out): Linear(in_features=100, out_features=1, bias=True)\n",
      ")\n"
     ]
    }
   ],
   "source": [
    "class lstm1(nn.Module):\n",
    "\n",
    "    def __init__(self):\n",
    "        super(lstm1, self).__init__()\n",
    "        self.lstm = nn.LSTM(300, 100)\n",
    "        self.out = nn.Linear(100, 1)\n",
    "\n",
    "    def forward(self, x):\n",
    "        embeddings, (shortterm, longterm) = self.lstm(x.transpose(0, 1))\n",
    "        prediction = torch.sigmoid(self.out(longterm))\n",
    "        return prediction\n",
    "lstm1 = lstm1()\n",
    "print(lstm1)"
   ]
  },
  {
   "cell_type": "code",
   "execution_count": 52,
   "id": "35687872-db36-4d88-a4df-5ec64a1e0112",
   "metadata": {},
   "outputs": [],
   "source": [
    "# Разбиение данных, перевод в тензоры\n",
    "x_train1, x_test1, y_train1, y_test1 = train_test_split(features_w, labels, test_size = 0.2)\n",
    "\n",
    "in_data1 = torch.tensor(x_train1).float()\n",
    "targets1 = torch.tensor(y_train1).float()"
   ]
  },
  {
   "cell_type": "code",
   "execution_count": 53,
   "id": "0a3d38b8-ee22-4225-900b-69683b5fd81d",
   "metadata": {},
   "outputs": [],
   "source": [
    "# Задаем оптимизатор и фунцию потеть\n",
    "optimizer1 = optim.SGD(lstm1.parameters(), lr = 0.01)\n",
    "criterion = nn.BCELoss()"
   ]
  },
  {
   "cell_type": "code",
   "execution_count": 54,
   "id": "5f470984-47a5-41dd-8f5b-8b4ab9865242",
   "metadata": {},
   "outputs": [],
   "source": [
    "# Функиция для обучении одной эпохи НС\n",
    "def train_one_epoch(net, optimizer, criterion, in_data, targets, batch_size=16):\n",
    "    for i in tqdm(range(0, in_data.shape[0], batch_size)):\n",
    "        batch_x = in_data[i:i + batch_size]\n",
    "        batch_y = targets[i:i + batch_size]\n",
    "        optimizer.zero_grad() \n",
    "        output = net(batch_x) \n",
    "        loss = criterion(output.reshape(-1), batch_y) \n",
    "        loss.backward() \n",
    "        optimizer.step() "
   ]
  },
  {
   "cell_type": "code",
   "execution_count": 58,
   "id": "89992c3b-466f-4f99-a510-9972697c4ac7",
   "metadata": {},
   "outputs": [],
   "source": [
    "# Функция для подсчета точности и f1-score\n",
    "from torcheval.metrics import BinaryAccuracy\n",
    "from torcheval.metrics.functional import binary_f1_score\n",
    "\n",
    "def net_acc_f1(net, x_test, y_test):\n",
    "    in_data_test = torch.tensor(x_test).float()\n",
    "    targets_test = torch.tensor(y_test).float()\n",
    "    \n",
    "    with torch.no_grad():\n",
    "        output = net(in_data_test).reshape(-1)\n",
    "        \n",
    "    metric = BinaryAccuracy()\n",
    "    metric.update(output, targets_test)\n",
    "    acc = metric.compute()\n",
    "    f1_score = binary_f1_score(output, targets_test)\n",
    "    print(f'Accuracy:, {acc:.4f}, F1-score: {f1_score:.4f}')"
   ]
  },
  {
   "cell_type": "code",
   "execution_count": 60,
   "id": "7ea3d59e-4064-4073-9345-2138170ca9ba",
   "metadata": {},
   "outputs": [
    {
     "data": {
      "application/vnd.jupyter.widget-view+json": {
       "model_id": "cb8fd21ea7d2494c9500c72ddf70526e",
       "version_major": 2,
       "version_minor": 0
      },
      "text/plain": [
       "  0%|          | 0/321 [00:00<?, ?it/s]"
      ]
     },
     "metadata": {},
     "output_type": "display_data"
    },
    {
     "name": "stdout",
     "output_type": "stream",
     "text": [
      "Accuracy:, 0.5288, F1-score: 0.6912\n"
     ]
    }
   ],
   "source": [
    "# Обучим 1 эпоху\n",
    "train_one_epoch(lstm1, optimizer1, criterion, in_data1, targets1, batch_size=16)\n",
    "\n",
    "net_acc_f1(lstm1, x_test1, y_test1)"
   ]
  },
  {
   "cell_type": "code",
   "execution_count": 62,
   "id": "716d0462-11e9-40c9-b056-1ed92de63a15",
   "metadata": {
    "scrolled": true
   },
   "outputs": [
    {
     "data": {
      "application/vnd.jupyter.widget-view+json": {
       "model_id": "6ebe42df225747678e6f33d8ed0a8acc",
       "version_major": 2,
       "version_minor": 0
      },
      "text/plain": [
       "  0%|          | 0/321 [00:00<?, ?it/s]"
      ]
     },
     "metadata": {},
     "output_type": "display_data"
    },
    {
     "data": {
      "application/vnd.jupyter.widget-view+json": {
       "model_id": "062e334b6ff54ebeb0af6f8d881640ee",
       "version_major": 2,
       "version_minor": 0
      },
      "text/plain": [
       "  0%|          | 0/321 [00:00<?, ?it/s]"
      ]
     },
     "metadata": {},
     "output_type": "display_data"
    },
    {
     "data": {
      "application/vnd.jupyter.widget-view+json": {
       "model_id": "6e02401b89114e18948ba935ab2df115",
       "version_major": 2,
       "version_minor": 0
      },
      "text/plain": [
       "  0%|          | 0/321 [00:00<?, ?it/s]"
      ]
     },
     "metadata": {},
     "output_type": "display_data"
    },
    {
     "data": {
      "application/vnd.jupyter.widget-view+json": {
       "model_id": "30a1b4da47a343bdb46e498250e79551",
       "version_major": 2,
       "version_minor": 0
      },
      "text/plain": [
       "  0%|          | 0/321 [00:00<?, ?it/s]"
      ]
     },
     "metadata": {},
     "output_type": "display_data"
    },
    {
     "data": {
      "application/vnd.jupyter.widget-view+json": {
       "model_id": "f7c617bdc1b34ca9a4dcbdf14153fc2f",
       "version_major": 2,
       "version_minor": 0
      },
      "text/plain": [
       "  0%|          | 0/321 [00:00<?, ?it/s]"
      ]
     },
     "metadata": {},
     "output_type": "display_data"
    },
    {
     "data": {
      "application/vnd.jupyter.widget-view+json": {
       "model_id": "55a32d72f11745269cfd937034f78e99",
       "version_major": 2,
       "version_minor": 0
      },
      "text/plain": [
       "  0%|          | 0/321 [00:00<?, ?it/s]"
      ]
     },
     "metadata": {},
     "output_type": "display_data"
    },
    {
     "data": {
      "application/vnd.jupyter.widget-view+json": {
       "model_id": "b732efd46df04558a4df378d09335250",
       "version_major": 2,
       "version_minor": 0
      },
      "text/plain": [
       "  0%|          | 0/321 [00:00<?, ?it/s]"
      ]
     },
     "metadata": {},
     "output_type": "display_data"
    },
    {
     "data": {
      "application/vnd.jupyter.widget-view+json": {
       "model_id": "d9ade78be3eb425b88b430b22e4e90fb",
       "version_major": 2,
       "version_minor": 0
      },
      "text/plain": [
       "  0%|          | 0/321 [00:00<?, ?it/s]"
      ]
     },
     "metadata": {},
     "output_type": "display_data"
    },
    {
     "data": {
      "application/vnd.jupyter.widget-view+json": {
       "model_id": "ed00bf7ff0714fd0b7aef7c95f8dd750",
       "version_major": 2,
       "version_minor": 0
      },
      "text/plain": [
       "  0%|          | 0/321 [00:00<?, ?it/s]"
      ]
     },
     "metadata": {},
     "output_type": "display_data"
    },
    {
     "data": {
      "application/vnd.jupyter.widget-view+json": {
       "model_id": "00c35e87329149a6a811762932cc680c",
       "version_major": 2,
       "version_minor": 0
      },
      "text/plain": [
       "  0%|          | 0/321 [00:00<?, ?it/s]"
      ]
     },
     "metadata": {},
     "output_type": "display_data"
    },
    {
     "data": {
      "application/vnd.jupyter.widget-view+json": {
       "model_id": "4d471cc1a4334a4abb15192c05351e52",
       "version_major": 2,
       "version_minor": 0
      },
      "text/plain": [
       "  0%|          | 0/321 [00:00<?, ?it/s]"
      ]
     },
     "metadata": {},
     "output_type": "display_data"
    },
    {
     "data": {
      "application/vnd.jupyter.widget-view+json": {
       "model_id": "687a4853e485420b99ff5dbf77284f7e",
       "version_major": 2,
       "version_minor": 0
      },
      "text/plain": [
       "  0%|          | 0/321 [00:00<?, ?it/s]"
      ]
     },
     "metadata": {},
     "output_type": "display_data"
    },
    {
     "data": {
      "application/vnd.jupyter.widget-view+json": {
       "model_id": "e8f8c7198cb74613af46c456fb4877ce",
       "version_major": 2,
       "version_minor": 0
      },
      "text/plain": [
       "  0%|          | 0/321 [00:00<?, ?it/s]"
      ]
     },
     "metadata": {},
     "output_type": "display_data"
    },
    {
     "data": {
      "application/vnd.jupyter.widget-view+json": {
       "model_id": "c2263ae70c974155b2c92eae9a55e8ec",
       "version_major": 2,
       "version_minor": 0
      },
      "text/plain": [
       "  0%|          | 0/321 [00:00<?, ?it/s]"
      ]
     },
     "metadata": {},
     "output_type": "display_data"
    },
    {
     "data": {
      "application/vnd.jupyter.widget-view+json": {
       "model_id": "46b9b6cb5c4e4e3e9c31d13d48ca16fc",
       "version_major": 2,
       "version_minor": 0
      },
      "text/plain": [
       "  0%|          | 0/321 [00:00<?, ?it/s]"
      ]
     },
     "metadata": {},
     "output_type": "display_data"
    },
    {
     "data": {
      "application/vnd.jupyter.widget-view+json": {
       "model_id": "3b9f7656bec54a10a6d9f346723bad69",
       "version_major": 2,
       "version_minor": 0
      },
      "text/plain": [
       "  0%|          | 0/321 [00:00<?, ?it/s]"
      ]
     },
     "metadata": {},
     "output_type": "display_data"
    },
    {
     "data": {
      "application/vnd.jupyter.widget-view+json": {
       "model_id": "b14dd5888ef3475883f9f144acfa3f50",
       "version_major": 2,
       "version_minor": 0
      },
      "text/plain": [
       "  0%|          | 0/321 [00:00<?, ?it/s]"
      ]
     },
     "metadata": {},
     "output_type": "display_data"
    },
    {
     "data": {
      "application/vnd.jupyter.widget-view+json": {
       "model_id": "a0b73c056bba40a4b35e58930d4bb141",
       "version_major": 2,
       "version_minor": 0
      },
      "text/plain": [
       "  0%|          | 0/321 [00:00<?, ?it/s]"
      ]
     },
     "metadata": {},
     "output_type": "display_data"
    },
    {
     "data": {
      "application/vnd.jupyter.widget-view+json": {
       "model_id": "04e4302b07d545da89f2bb0a352812f6",
       "version_major": 2,
       "version_minor": 0
      },
      "text/plain": [
       "  0%|          | 0/321 [00:00<?, ?it/s]"
      ]
     },
     "metadata": {},
     "output_type": "display_data"
    },
    {
     "data": {
      "application/vnd.jupyter.widget-view+json": {
       "model_id": "44445101f87248fc9ff5d96b19ca5984",
       "version_major": 2,
       "version_minor": 0
      },
      "text/plain": [
       "  0%|          | 0/321 [00:00<?, ?it/s]"
      ]
     },
     "metadata": {},
     "output_type": "display_data"
    },
    {
     "data": {
      "application/vnd.jupyter.widget-view+json": {
       "model_id": "4f96e68bcf854a8a95e17ca2ab30249e",
       "version_major": 2,
       "version_minor": 0
      },
      "text/plain": [
       "  0%|          | 0/321 [00:00<?, ?it/s]"
      ]
     },
     "metadata": {},
     "output_type": "display_data"
    },
    {
     "data": {
      "application/vnd.jupyter.widget-view+json": {
       "model_id": "b54b7a7b30a54722babb9898038041bc",
       "version_major": 2,
       "version_minor": 0
      },
      "text/plain": [
       "  0%|          | 0/321 [00:00<?, ?it/s]"
      ]
     },
     "metadata": {},
     "output_type": "display_data"
    },
    {
     "data": {
      "application/vnd.jupyter.widget-view+json": {
       "model_id": "2dc7e8047c0f4e4aa204769a11de417f",
       "version_major": 2,
       "version_minor": 0
      },
      "text/plain": [
       "  0%|          | 0/321 [00:00<?, ?it/s]"
      ]
     },
     "metadata": {},
     "output_type": "display_data"
    },
    {
     "data": {
      "application/vnd.jupyter.widget-view+json": {
       "model_id": "ed42759bfdfe4378875619c1ddfa14d4",
       "version_major": 2,
       "version_minor": 0
      },
      "text/plain": [
       "  0%|          | 0/321 [00:00<?, ?it/s]"
      ]
     },
     "metadata": {},
     "output_type": "display_data"
    },
    {
     "data": {
      "application/vnd.jupyter.widget-view+json": {
       "model_id": "ff51db718f7c41068f4ece10ad53440a",
       "version_major": 2,
       "version_minor": 0
      },
      "text/plain": [
       "  0%|          | 0/321 [00:00<?, ?it/s]"
      ]
     },
     "metadata": {},
     "output_type": "display_data"
    },
    {
     "data": {
      "application/vnd.jupyter.widget-view+json": {
       "model_id": "86db465daea840729bcec1b7681071c1",
       "version_major": 2,
       "version_minor": 0
      },
      "text/plain": [
       "  0%|          | 0/321 [00:00<?, ?it/s]"
      ]
     },
     "metadata": {},
     "output_type": "display_data"
    },
    {
     "data": {
      "application/vnd.jupyter.widget-view+json": {
       "model_id": "e22f9ef0730c46f4a1dd97b6a1c17365",
       "version_major": 2,
       "version_minor": 0
      },
      "text/plain": [
       "  0%|          | 0/321 [00:00<?, ?it/s]"
      ]
     },
     "metadata": {},
     "output_type": "display_data"
    },
    {
     "data": {
      "application/vnd.jupyter.widget-view+json": {
       "model_id": "269984d9d6994a33ab147ceb2d334022",
       "version_major": 2,
       "version_minor": 0
      },
      "text/plain": [
       "  0%|          | 0/321 [00:00<?, ?it/s]"
      ]
     },
     "metadata": {},
     "output_type": "display_data"
    },
    {
     "data": {
      "application/vnd.jupyter.widget-view+json": {
       "model_id": "8e3f03103f62442789c1780dc0bf6f7f",
       "version_major": 2,
       "version_minor": 0
      },
      "text/plain": [
       "  0%|          | 0/321 [00:00<?, ?it/s]"
      ]
     },
     "metadata": {},
     "output_type": "display_data"
    },
    {
     "data": {
      "application/vnd.jupyter.widget-view+json": {
       "model_id": "5812be1598784c1c92dbe22eb67342fc",
       "version_major": 2,
       "version_minor": 0
      },
      "text/plain": [
       "  0%|          | 0/321 [00:00<?, ?it/s]"
      ]
     },
     "metadata": {},
     "output_type": "display_data"
    }
   ],
   "source": [
    "# Обучим 30 эпох\n",
    "for i in range(30):\n",
    "    train_one_epoch(lstm1, optimizer1, criterion, in_data1, targets1, batch_size=16)"
   ]
  },
  {
   "cell_type": "code",
   "execution_count": 63,
   "id": "43b6f7b6-1605-4f06-bfb2-e10cfddb8113",
   "metadata": {},
   "outputs": [
    {
     "name": "stdout",
     "output_type": "stream",
     "text": [
      "Accuracy:, 0.5304, F1-score: 0.6919\n"
     ]
    }
   ],
   "source": [
    "net_acc_f1(lstm1, x_test1, y_test1)"
   ]
  },
  {
   "cell_type": "markdown",
   "id": "1ea0f7e2-cffc-4a13-a303-6bb56c679be0",
   "metadata": {},
   "source": [
    "*5.3. Создание нейросети. Многослойный перцептрон*"
   ]
  },
  {
   "cell_type": "code",
   "execution_count": 87,
   "id": "169f493f-0fed-4ade-a285-bc20fbb5fb4f",
   "metadata": {},
   "outputs": [
    {
     "name": "stdout",
     "output_type": "stream",
     "text": [
      "mlp(\n",
      "  (out): Linear(in_features=300, out_features=1, bias=True)\n",
      ")\n"
     ]
    }
   ],
   "source": [
    "class mlp(nn.Module):\n",
    "\n",
    "    def __init__(self):\n",
    "        super(mlp, self).__init__()\n",
    "        self.out = nn.Linear(300, 1)\n",
    "        self.out = nn.Linear(300, 1)\n",
    "        self.out = nn.Linear(300, 1)\n",
    "        self.out = nn.Linear(300, 1)\n",
    "        self.out = nn.Linear(300, 1)\n",
    "\n",
    "    def forward(self, x):\n",
    "        return torch.sigmoid(self.out(x))\n",
    "\n",
    "mlp = mlp()\n",
    "print(mlp)"
   ]
  },
  {
   "cell_type": "code",
   "execution_count": 69,
   "id": "78d79330-3e54-431e-9422-4dd3a847d54b",
   "metadata": {},
   "outputs": [],
   "source": [
    "# Разбиение данных, перевод в тензоры\n",
    "x_train2, x_test2, y_train2, y_test2 = train_test_split(features_t, labels, test_size = 0.2)\n",
    "\n",
    "in_data2 = torch.tensor(x_train2).float()\n",
    "targets2 = torch.tensor(y_train2).float()"
   ]
  },
  {
   "cell_type": "code",
   "execution_count": 95,
   "id": "07fb194b-353a-4de5-93e7-d16d4a89a30e",
   "metadata": {},
   "outputs": [],
   "source": [
    "# Задаем оптимизатор и фунцию потеть\n",
    "optimizer2 = optim.Adam(mlp.parameters(), lr=0.01)\n",
    "criterion = nn.BCEWithLogitsLoss()"
   ]
  },
  {
   "cell_type": "code",
   "execution_count": 97,
   "id": "f2f7ee5a-a1a1-4872-83c6-ddbe86c222d8",
   "metadata": {
    "scrolled": true
   },
   "outputs": [
    {
     "data": {
      "application/vnd.jupyter.widget-view+json": {
       "model_id": "76d7433490a74d2e977937dc9c690e0c",
       "version_major": 2,
       "version_minor": 0
      },
      "text/plain": [
       "  0%|          | 0/321 [00:00<?, ?it/s]"
      ]
     },
     "metadata": {},
     "output_type": "display_data"
    },
    {
     "data": {
      "application/vnd.jupyter.widget-view+json": {
       "model_id": "bfc0202c5b3e4197be0b9fdf338c586a",
       "version_major": 2,
       "version_minor": 0
      },
      "text/plain": [
       "  0%|          | 0/321 [00:00<?, ?it/s]"
      ]
     },
     "metadata": {},
     "output_type": "display_data"
    },
    {
     "data": {
      "application/vnd.jupyter.widget-view+json": {
       "model_id": "ed22f349edb84adcb5d1ce1cb125271f",
       "version_major": 2,
       "version_minor": 0
      },
      "text/plain": [
       "  0%|          | 0/321 [00:00<?, ?it/s]"
      ]
     },
     "metadata": {},
     "output_type": "display_data"
    },
    {
     "data": {
      "application/vnd.jupyter.widget-view+json": {
       "model_id": "ec4bf0611a03459c9b6cc97b6e70559a",
       "version_major": 2,
       "version_minor": 0
      },
      "text/plain": [
       "  0%|          | 0/321 [00:00<?, ?it/s]"
      ]
     },
     "metadata": {},
     "output_type": "display_data"
    },
    {
     "data": {
      "application/vnd.jupyter.widget-view+json": {
       "model_id": "74b37278211146f7bde899a08d87ad06",
       "version_major": 2,
       "version_minor": 0
      },
      "text/plain": [
       "  0%|          | 0/321 [00:00<?, ?it/s]"
      ]
     },
     "metadata": {},
     "output_type": "display_data"
    },
    {
     "data": {
      "application/vnd.jupyter.widget-view+json": {
       "model_id": "5f1f490445a44fef8904232ddfa317ce",
       "version_major": 2,
       "version_minor": 0
      },
      "text/plain": [
       "  0%|          | 0/321 [00:00<?, ?it/s]"
      ]
     },
     "metadata": {},
     "output_type": "display_data"
    },
    {
     "data": {
      "application/vnd.jupyter.widget-view+json": {
       "model_id": "02de02af341346bea6827045254a1b8f",
       "version_major": 2,
       "version_minor": 0
      },
      "text/plain": [
       "  0%|          | 0/321 [00:00<?, ?it/s]"
      ]
     },
     "metadata": {},
     "output_type": "display_data"
    },
    {
     "data": {
      "application/vnd.jupyter.widget-view+json": {
       "model_id": "398e585bd8244a58961277c64a91e351",
       "version_major": 2,
       "version_minor": 0
      },
      "text/plain": [
       "  0%|          | 0/321 [00:00<?, ?it/s]"
      ]
     },
     "metadata": {},
     "output_type": "display_data"
    },
    {
     "data": {
      "application/vnd.jupyter.widget-view+json": {
       "model_id": "ae9e699ad09042818c594ea7d4e07991",
       "version_major": 2,
       "version_minor": 0
      },
      "text/plain": [
       "  0%|          | 0/321 [00:00<?, ?it/s]"
      ]
     },
     "metadata": {},
     "output_type": "display_data"
    },
    {
     "data": {
      "application/vnd.jupyter.widget-view+json": {
       "model_id": "6c3d8c364c044ae99376fba47cf30db7",
       "version_major": 2,
       "version_minor": 0
      },
      "text/plain": [
       "  0%|          | 0/321 [00:00<?, ?it/s]"
      ]
     },
     "metadata": {},
     "output_type": "display_data"
    },
    {
     "data": {
      "application/vnd.jupyter.widget-view+json": {
       "model_id": "ff728872cbab493f89427aa25e483c86",
       "version_major": 2,
       "version_minor": 0
      },
      "text/plain": [
       "  0%|          | 0/321 [00:00<?, ?it/s]"
      ]
     },
     "metadata": {},
     "output_type": "display_data"
    },
    {
     "data": {
      "application/vnd.jupyter.widget-view+json": {
       "model_id": "dedcbfd5ba3843edaf12357dec6b5b9d",
       "version_major": 2,
       "version_minor": 0
      },
      "text/plain": [
       "  0%|          | 0/321 [00:00<?, ?it/s]"
      ]
     },
     "metadata": {},
     "output_type": "display_data"
    },
    {
     "data": {
      "application/vnd.jupyter.widget-view+json": {
       "model_id": "eb0b7243d586497192f3ef5b7f404e49",
       "version_major": 2,
       "version_minor": 0
      },
      "text/plain": [
       "  0%|          | 0/321 [00:00<?, ?it/s]"
      ]
     },
     "metadata": {},
     "output_type": "display_data"
    },
    {
     "data": {
      "application/vnd.jupyter.widget-view+json": {
       "model_id": "8f267bcecd2d4ea38a4e2a54365347dd",
       "version_major": 2,
       "version_minor": 0
      },
      "text/plain": [
       "  0%|          | 0/321 [00:00<?, ?it/s]"
      ]
     },
     "metadata": {},
     "output_type": "display_data"
    },
    {
     "data": {
      "application/vnd.jupyter.widget-view+json": {
       "model_id": "75ffaf20ef7747f880f480f221e955e1",
       "version_major": 2,
       "version_minor": 0
      },
      "text/plain": [
       "  0%|          | 0/321 [00:00<?, ?it/s]"
      ]
     },
     "metadata": {},
     "output_type": "display_data"
    },
    {
     "data": {
      "application/vnd.jupyter.widget-view+json": {
       "model_id": "f820772535f94455b6372583c2aa74e3",
       "version_major": 2,
       "version_minor": 0
      },
      "text/plain": [
       "  0%|          | 0/321 [00:00<?, ?it/s]"
      ]
     },
     "metadata": {},
     "output_type": "display_data"
    },
    {
     "data": {
      "application/vnd.jupyter.widget-view+json": {
       "model_id": "5acb9f615cfb43798419ae7e47ed20ee",
       "version_major": 2,
       "version_minor": 0
      },
      "text/plain": [
       "  0%|          | 0/321 [00:00<?, ?it/s]"
      ]
     },
     "metadata": {},
     "output_type": "display_data"
    },
    {
     "data": {
      "application/vnd.jupyter.widget-view+json": {
       "model_id": "9142db45e1cf45fdb99f80631ed1fe61",
       "version_major": 2,
       "version_minor": 0
      },
      "text/plain": [
       "  0%|          | 0/321 [00:00<?, ?it/s]"
      ]
     },
     "metadata": {},
     "output_type": "display_data"
    },
    {
     "data": {
      "application/vnd.jupyter.widget-view+json": {
       "model_id": "687ae4f147b441c7b135318d306ffdbb",
       "version_major": 2,
       "version_minor": 0
      },
      "text/plain": [
       "  0%|          | 0/321 [00:00<?, ?it/s]"
      ]
     },
     "metadata": {},
     "output_type": "display_data"
    },
    {
     "data": {
      "application/vnd.jupyter.widget-view+json": {
       "model_id": "b2c6c78d821943ce8f5ea5e642135822",
       "version_major": 2,
       "version_minor": 0
      },
      "text/plain": [
       "  0%|          | 0/321 [00:00<?, ?it/s]"
      ]
     },
     "metadata": {},
     "output_type": "display_data"
    },
    {
     "data": {
      "application/vnd.jupyter.widget-view+json": {
       "model_id": "221e41895e3e480fbe46ea4a8a8c4012",
       "version_major": 2,
       "version_minor": 0
      },
      "text/plain": [
       "  0%|          | 0/321 [00:00<?, ?it/s]"
      ]
     },
     "metadata": {},
     "output_type": "display_data"
    },
    {
     "data": {
      "application/vnd.jupyter.widget-view+json": {
       "model_id": "57c4ea3e33c848409a5ebab0879f942f",
       "version_major": 2,
       "version_minor": 0
      },
      "text/plain": [
       "  0%|          | 0/321 [00:00<?, ?it/s]"
      ]
     },
     "metadata": {},
     "output_type": "display_data"
    },
    {
     "data": {
      "application/vnd.jupyter.widget-view+json": {
       "model_id": "d5759b94a7664005af4bb98166de34cd",
       "version_major": 2,
       "version_minor": 0
      },
      "text/plain": [
       "  0%|          | 0/321 [00:00<?, ?it/s]"
      ]
     },
     "metadata": {},
     "output_type": "display_data"
    },
    {
     "data": {
      "application/vnd.jupyter.widget-view+json": {
       "model_id": "0513d00440834d34b80e8c7b6956ff39",
       "version_major": 2,
       "version_minor": 0
      },
      "text/plain": [
       "  0%|          | 0/321 [00:00<?, ?it/s]"
      ]
     },
     "metadata": {},
     "output_type": "display_data"
    },
    {
     "data": {
      "application/vnd.jupyter.widget-view+json": {
       "model_id": "45a3b0788f65488380168691ab78a22b",
       "version_major": 2,
       "version_minor": 0
      },
      "text/plain": [
       "  0%|          | 0/321 [00:00<?, ?it/s]"
      ]
     },
     "metadata": {},
     "output_type": "display_data"
    },
    {
     "data": {
      "application/vnd.jupyter.widget-view+json": {
       "model_id": "dc1d06e383d542e8bc4332caec0d1f58",
       "version_major": 2,
       "version_minor": 0
      },
      "text/plain": [
       "  0%|          | 0/321 [00:00<?, ?it/s]"
      ]
     },
     "metadata": {},
     "output_type": "display_data"
    },
    {
     "data": {
      "application/vnd.jupyter.widget-view+json": {
       "model_id": "3e0dbfd6b5984d5d9d2e92de59717daf",
       "version_major": 2,
       "version_minor": 0
      },
      "text/plain": [
       "  0%|          | 0/321 [00:00<?, ?it/s]"
      ]
     },
     "metadata": {},
     "output_type": "display_data"
    },
    {
     "data": {
      "application/vnd.jupyter.widget-view+json": {
       "model_id": "9d12c17ccb8b41c398b75cc4b20ae988",
       "version_major": 2,
       "version_minor": 0
      },
      "text/plain": [
       "  0%|          | 0/321 [00:00<?, ?it/s]"
      ]
     },
     "metadata": {},
     "output_type": "display_data"
    },
    {
     "data": {
      "application/vnd.jupyter.widget-view+json": {
       "model_id": "baf24b16cdca42929b76941b294d6277",
       "version_major": 2,
       "version_minor": 0
      },
      "text/plain": [
       "  0%|          | 0/321 [00:00<?, ?it/s]"
      ]
     },
     "metadata": {},
     "output_type": "display_data"
    },
    {
     "data": {
      "application/vnd.jupyter.widget-view+json": {
       "model_id": "235c951fe2ae4d129b38491052263c25",
       "version_major": 2,
       "version_minor": 0
      },
      "text/plain": [
       "  0%|          | 0/321 [00:00<?, ?it/s]"
      ]
     },
     "metadata": {},
     "output_type": "display_data"
    }
   ],
   "source": [
    "# Обучим 30 эпох\n",
    "for i in range(30):\n",
    "    train_one_epoch(mlp, optimizer2, criterion, in_data2, targets2, batch_size=16)"
   ]
  },
  {
   "cell_type": "code",
   "execution_count": 98,
   "id": "e6dcb7d3-9628-41b4-a3ca-4b3752da4444",
   "metadata": {},
   "outputs": [
    {
     "name": "stdout",
     "output_type": "stream",
     "text": [
      "Accuracy:, 0.7368, F1-score: 0.7081\n"
     ]
    }
   ],
   "source": [
    "net_acc_f1(mlp, x_test2, y_test2)"
   ]
  }
 ],
 "metadata": {
  "kernelspec": {
   "display_name": "Python [conda env:base] *",
   "language": "python",
   "name": "conda-base-py"
  },
  "language_info": {
   "codemirror_mode": {
    "name": "ipython",
    "version": 3
   },
   "file_extension": ".py",
   "mimetype": "text/x-python",
   "name": "python",
   "nbconvert_exporter": "python",
   "pygments_lexer": "ipython3",
   "version": "3.11.5"
  }
 },
 "nbformat": 4,
 "nbformat_minor": 5
}
